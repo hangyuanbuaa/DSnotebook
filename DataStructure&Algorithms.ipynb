{
 "cells": [
  {
   "cell_type": "markdown",
   "metadata": {},
   "source": [
    "# Data Structures & Algorithms in Python\n",
    "\n",
    "## Overview:\n",
    "1. Introduction & Efficiency\n",
    "    - Syntax\n",
    "    - Efficiency\n",
    "    - Notation of Efficiency\n",
    "2. List-Based Collections\n",
    "    - Lists/Arrays\n",
    "    - Linked Lists\n",
    "    - Stacks\n",
    "    - Queues\n",
    "3. Searching & Sorting\n",
    "    - Binary Search\n",
    "    - Recursion\n",
    "    - Bubble Sort\n",
    "    - Merge Sort\n",
    "    - Quick Sort\n",
    "4. Maps & Hashing\n",
    "    - Maps\n",
    "    - Hashing\n",
    "    - Collisions\n",
    "    - Hashing Conventions\n",
    "5. Trees\n",
    "    - Trees\n",
    "    - Tree Traversal\n",
    "    - Binary Trees\n",
    "    - Binary Search Trees\n",
    "    - Heaps\n",
    "    - Self-Balancing Trees\n",
    "6. Graphs\n",
    "    - Graphs\n",
    "    - Graph Properties\n",
    "    - Graph Representation\n",
    "    - Graph Traversal\n",
    "    - Graph Paths\n",
    "7. Case Studies in Algorithms\n",
    "    - Shortest Path Problem\n",
    "    - Knapsack Problem\n",
    "    - Traveling Salesman Problem\n",
    "8. Technical Interview Tips\n",
    "    - Find the Number of Islands"
   ]
  },
  {
   "cell_type": "markdown",
   "metadata": {},
   "source": [
    "## 1. Efficiency\n",
    "\n",
    "Notation: O(n)\n",
    "\n",
    "- [Time Complexity](https://en.wikipedia.org/wiki/Time_complexity#Table_of_common_time_complexities)\n",
    "> Time complexity is commonly estimated by counting the number of elementary operations performed by the algorithm, supposing that each elementary operation takes a fixed amount of time to perform.\n",
    "- Approximation: about how many computations must be performed for the data structure of input\n",
    "- Worst Case Scenario: upper bound\n",
    "- Space Efficiency"
   ]
  },
  {
   "cell_type": "markdown",
   "metadata": {},
   "source": [
    "- Big-O cheat sheet (http://bigocheatsheet.com)\n",
    "![title](img/BigOComplexityChart.png)\n",
    "\n",
    "![title](img/Efficiency_CommonDataStructureOperations.png)\n",
    "\n",
    "![title](img/Efficiency_ArraySortingAlgorithms.png)"
   ]
  },
  {
   "cell_type": "markdown",
   "metadata": {},
   "source": [
    "## 2. List-Based Collections\n",
    "> Data Structure: extension of collections\n",
    "\n",
    "### Lists\n",
    "\n",
    "- ([TimeComplexity](https://wiki.python.org/moin/TimeComplexity)): a list is internally represented as an array \n",
    "- Arrays: index - location\n",
    "        - inefficient by insertion: O(n), shift elements to make space\n",
    "        - Delete an element\n",
    "      "
   ]
  },
  {
   "cell_type": "markdown",
   "metadata": {},
   "source": [
    "### Linked List\n",
    "    - ordered, no index\n",
    "    - memory address of the next element\n",
    "    - easy to add/delete element: change the pointer in next component\n",
    "    - doubly linked lists\n",
    "    - no such built-in data structure in Python"
   ]
  },
  {
   "cell_type": "code",
   "execution_count": 1,
   "metadata": {},
   "outputs": [],
   "source": [
    "# define through class\n",
    "class Element(object):\n",
    "    def __init__(self, value):\n",
    "        self.value = value\n",
    "        self.next = None"
   ]
  },
  {
   "cell_type": "code",
   "execution_count": 2,
   "metadata": {},
   "outputs": [],
   "source": [
    "class LinkedList(object):\n",
    "    def __init__(self, head=None):\n",
    "        self.head = head\n",
    "        \n",
    "    def append(self, new_element):\n",
    "        current = self.head\n",
    "        if self.head:\n",
    "            while current.next:\n",
    "                current = current.next\n",
    "            current.next = new_element\n",
    "        else:\n",
    "            self.head = new_element\n",
    "        \n",
    "    def get_position(self, position):\n",
    "        counter = 1\n",
    "        current = self.head\n",
    "        if position < 1:\n",
    "            return None\n",
    "        while current and counter <= position:\n",
    "            if counter == position:\n",
    "                return current\n",
    "            current = current.next\n",
    "            counter += 1\n",
    "        return None\n",
    "    \n",
    "    def insert(self, new_element, position):\n",
    "        counter = 1\n",
    "        current = self.head\n",
    "        if position > 1:\n",
    "            while current and counter < position:\n",
    "                if counter == position - 1:\n",
    "                    new_element.next = current.next\n",
    "                    current.next = new_element\n",
    "                current = current.next\n",
    "                counter += 1\n",
    "        elif position == 1:\n",
    "            new_element.next = self.head\n",
    "            self.head = new_element\n",
    "            \n",
    "    def delete(self, value):\n",
    "        current = self.head\n",
    "        previous = None\n",
    "        while current.value != value and current.next:\n",
    "            previous = current\n",
    "            current = current.next\n",
    "        if current.value == value:\n",
    "            if previous:\n",
    "                previous.next = current.next\n",
    "            else:\n",
    "                self.head = current.next"
   ]
  },
  {
   "cell_type": "code",
   "execution_count": 3,
   "metadata": {},
   "outputs": [
    {
     "name": "stdout",
     "output_type": "stream",
     "text": [
      "2\n"
     ]
    }
   ],
   "source": [
    "e1 = Element(1)\n",
    "e2 = Element(2)\n",
    "e3 = Element(3)\n",
    "\n",
    "LL = LinkedList(e1)\n",
    "LL.append(e2)\n",
    "LL.append(e3)\n",
    "\n",
    "print(LL.get_position(2).value)"
   ]
  },
  {
   "cell_type": "markdown",
   "metadata": {},
   "source": [
    "### Stacks\n",
    "\n",
    "- put elements on top, with easy access to remove or look at the most recent element\n",
    "    - push(入栈): O(1)\n",
    "    - pop(出栈): O(1)\n",
    "    - L.I.F.O.: Last In, First Out\n",
    "    \n",
    "> stack functionality is already built into Python list:\n",
    "- pop()\n",
    "- append()"
   ]
  },
  {
   "cell_type": "code",
   "execution_count": 4,
   "metadata": {},
   "outputs": [],
   "source": [
    "class Element(object):\n",
    "    def __init__(self, value):\n",
    "        self.value = value\n",
    "        self.next = None\n",
    "        \n",
    "class LinkedList(object):\n",
    "    def __init__(self, head=None):\n",
    "        self.head = head\n",
    "    \n",
    "    def append(self, new_element):\n",
    "        current = self.head\n",
    "        if self.head:\n",
    "            while current.next:\n",
    "                current = current.next\n",
    "            current.next = new_element\n",
    "        else:\n",
    "            self.head = new_element\n",
    "    \n",
    "    def insert_first(self, new_element):\n",
    "        new_element.next = self.head\n",
    "        self.head = new_element\n",
    "        \n",
    "    def delete_first(self):\n",
    "        if self.head:\n",
    "            deleted_element = self.head\n",
    "            tmp = deleted_element.next\n",
    "            self.head = tmp\n",
    "            return deleted_element\n",
    "        else:\n",
    "            return None\n",
    "        \n",
    "class Stack(object):\n",
    "    def __init__(self, top=None):\n",
    "        self.ll = LinkedList(top)\n",
    "        \n",
    "    def push(self, new_element):\n",
    "        self.ll.insert_first(new_element)\n",
    "        \n",
    "    def pop(self):\n",
    "        return self.ll.delete_first()"
   ]
  },
  {
   "cell_type": "code",
   "execution_count": 5,
   "metadata": {},
   "outputs": [
    {
     "name": "stdout",
     "output_type": "stream",
     "text": [
      "3\n",
      "2\n",
      "1\n",
      "None\n"
     ]
    }
   ],
   "source": [
    "e1 = Element(1)\n",
    "e2 = Element(2)\n",
    "e3 = Element(3)\n",
    "\n",
    "stack = Stack(e1)\n",
    "stack.push(e2)\n",
    "stack.push(e3)\n",
    "print(stack.pop().value)\n",
    "print(stack.pop().value)\n",
    "print(stack.pop().value)\n",
    "print(stack.pop())"
   ]
  },
  {
   "cell_type": "markdown",
   "metadata": {},
   "source": [
    "### Queues\n",
    "- first in first out structure\n",
    "    - Enqueue: add an element to the Tail\n",
    "    - Dequeue: remove the Head element\n",
    "    - Peek: look at the Head element\n",
    "    - **Deque**: double ended \n",
    "    - **Priority Queue**\n",
    "    \n",
    "> it is possible to use a list as a queue in Python, however lists are not efficient. While appends and pops from the end of list are fast, doing inserts or pops from the beginning of a list is slow (all other elements must be shifted by one)"
   ]
  },
  {
   "cell_type": "code",
   "execution_count": 6,
   "metadata": {},
   "outputs": [],
   "source": [
    "from collections import deque\n",
    "queue = deque(['A', 'B', 'C'])\n",
    "queue.append('D')\n",
    "queue.append('E')"
   ]
  },
  {
   "cell_type": "code",
   "execution_count": 7,
   "metadata": {},
   "outputs": [
    {
     "data": {
      "text/plain": [
       "deque(['A', 'B', 'C', 'D', 'E'])"
      ]
     },
     "execution_count": 7,
     "metadata": {},
     "output_type": "execute_result"
    }
   ],
   "source": [
    "queue"
   ]
  },
  {
   "cell_type": "code",
   "execution_count": 8,
   "metadata": {},
   "outputs": [
    {
     "data": {
      "text/plain": [
       "'A'"
      ]
     },
     "execution_count": 8,
     "metadata": {},
     "output_type": "execute_result"
    }
   ],
   "source": [
    "queue.popleft()"
   ]
  },
  {
   "cell_type": "code",
   "execution_count": 9,
   "metadata": {},
   "outputs": [
    {
     "data": {
      "text/plain": [
       "deque(['B', 'C', 'D', 'E'])"
      ]
     },
     "execution_count": 9,
     "metadata": {},
     "output_type": "execute_result"
    }
   ],
   "source": [
    "queue"
   ]
  },
  {
   "cell_type": "code",
   "execution_count": 10,
   "metadata": {},
   "outputs": [],
   "source": [
    "# make a Queue class using a list\n",
    "class Queue:\n",
    "    def __init__(self, head=None):\n",
    "        self.storage = [head]\n",
    "    \n",
    "    def enqueue(self, new_element):\n",
    "        self.storage.append(new_element)\n",
    "    \n",
    "    def peek(self):\n",
    "        return self.storage[0]\n",
    "    \n",
    "    def dequeue(self):\n",
    "        return self.storage.pop(0)"
   ]
  },
  {
   "cell_type": "code",
   "execution_count": 11,
   "metadata": {},
   "outputs": [
    {
     "name": "stdout",
     "output_type": "stream",
     "text": [
      "1\n",
      "1\n"
     ]
    }
   ],
   "source": [
    "q = Queue(1)\n",
    "q.enqueue(2)\n",
    "q.enqueue(3)\n",
    "\n",
    "print(q.peek())\n",
    "print(q.dequeue())"
   ]
  },
  {
   "cell_type": "markdown",
   "metadata": {},
   "source": [
    "## 3. Search & Sorting Algorithm\n",
    "\n",
    "**Overview**\n",
    "    - Binary Search\n",
    "    - Recursion\n",
    "    - Sorting\n",
    "\n",
    "### Binary Search (二分法)\n",
    "    - start from one end: O(n)\n",
    "    - start from the middle: O(log(n))"
   ]
  },
  {
   "cell_type": "code",
   "execution_count": 12,
   "metadata": {},
   "outputs": [],
   "source": [
    "def binary_search(listData, value):\n",
    "    low = 0\n",
    "    high = len(listData) - 1\n",
    "    while low <= high:\n",
    "        mid = int((low+high)/2)\n",
    "        if listData[mid] == value:\n",
    "            return mid\n",
    "        elif listData[mid] < value:\n",
    "            low = mid +1\n",
    "        else:\n",
    "            high = mid -1\n",
    "    return -1"
   ]
  },
  {
   "cell_type": "code",
   "execution_count": 13,
   "metadata": {},
   "outputs": [
    {
     "data": {
      "text/plain": [
       "8"
      ]
     },
     "execution_count": 13,
     "metadata": {},
     "output_type": "execute_result"
    }
   ],
   "source": [
    "test = [1, 10, 13, 21, 34, 44, 52, 68, 73, 94, 100]\n",
    "val = 73\n",
    "binary_search(test, val)"
   ]
  },
  {
   "cell_type": "markdown",
   "metadata": {},
   "source": [
    "### Recursion (递归)\n",
    "    - function that calls itself\n",
    "    - be careful with infinite recursion\n",
    "    - pseudocode:\n",
    "    ```\n",
    "    func recursive(input):\n",
    "        if input <= 0\n",
    "            return input\n",
    "        else\n",
    "            output = recursive(input - 1)\n",
    "            return output\n",
    "    ```\n",
    "        - step 1: call itself at some point\n",
    "        - step 2: base case -> exit condition\n",
    "        - step 3: alter the input or change variable every iteration"
   ]
  },
  {
   "cell_type": "code",
   "execution_count": 14,
   "metadata": {},
   "outputs": [],
   "source": [
    "# Fibonacci Sequence\n",
    "def fib(position):\n",
    "    if position == 0 or position == 1:\n",
    "        return position\n",
    "    return fib(position - 1) + fib(position -2)"
   ]
  },
  {
   "cell_type": "code",
   "execution_count": 15,
   "metadata": {
    "scrolled": true
   },
   "outputs": [
    {
     "data": {
      "text/plain": [
       "55"
      ]
     },
     "execution_count": 15,
     "metadata": {},
     "output_type": "execute_result"
    }
   ],
   "source": [
    "fib(10) # 0, 1, 1, 2, 3, 5, 8, 13, 21, 34, 55"
   ]
  },
  {
   "cell_type": "code",
   "execution_count": 16,
   "metadata": {},
   "outputs": [],
   "source": [
    "# Factorial\n",
    "def factorial(n):\n",
    "    if n == 0 or n == 1:\n",
    "        return n\n",
    "    return n*factorial(n-1)"
   ]
  },
  {
   "cell_type": "code",
   "execution_count": 17,
   "metadata": {},
   "outputs": [
    {
     "data": {
      "text/plain": [
       "120"
      ]
     },
     "execution_count": 17,
     "metadata": {},
     "output_type": "execute_result"
    }
   ],
   "source": [
    "factorial(5) # 5! = 5*4*3*2*1 = 120"
   ]
  },
  {
   "cell_type": "markdown",
   "metadata": {},
   "source": [
    "> In practice if we were to use recursion to solve this problem we should use a hash table to store and fetch previously calculated results. This will increase the space needed but will drastically improve the runtime efficiency."
   ]
  },
  {
   "cell_type": "markdown",
   "metadata": {},
   "source": [
    "### Sorting (排序)\n",
    "\n",
    "    - naive approach\n",
    "    - inplace (原地排序): rearrange locally without copying to new data structure, low space complexity\n",
    "    - tradeoff: less space or less time\n",
    "\n",
    "- **Bubble Sort** \n",
    "    - naive approach: O(n\\*n) = O(n^2)\n",
    "    - Complexity:\n",
    "        | n = # of elements | # of iterations = (n-1) times; # of comparisons each iteration: (n-1) times | (n-1)\\*(n-1)\n",
    "    - Time:\n",
    "         - Worst Case: O(n^2) comparions, O(n^2) swaps\n",
    "         - Average Case: O(n^2) comparisons, O(n^2) swaps\n",
    "         - Best Case: O(n) comparisons, O(1) swaps\n",
    "    - Space: O(1) (inplace sorting, no need for extra data structures)"
   ]
  },
  {
   "cell_type": "code",
   "execution_count": 18,
   "metadata": {},
   "outputs": [],
   "source": [
    "def bubble_sort(listData):\n",
    "    issorted = False\n",
    "    while not issorted:\n",
    "        issorted = True\n",
    "        for i in range(len(listData)-1):\n",
    "            if listData[i] > listData[i+1]:\n",
    "                issorted = False\n",
    "                listData[i], listData[i+1] = listData[i+1], listData[i]"
   ]
  },
  {
   "cell_type": "code",
   "execution_count": 19,
   "metadata": {},
   "outputs": [
    {
     "data": {
      "text/plain": [
       "[3, 5, 8, 12, 13, 15, 21, 22, 23, 39]"
      ]
     },
     "execution_count": 19,
     "metadata": {},
     "output_type": "execute_result"
    }
   ],
   "source": [
    "test = [5, 12, 3, 13, 8, 23, 21, 39, 22, 15]\n",
    "bubble_sort(test)\n",
    "test"
   ]
  },
  {
   "cell_type": "markdown",
   "metadata": {},
   "source": [
    "> set a flag to indicate the status of list, if it is well sorted or not -> start the while loop -> assume the list well sorted at first (flag set to be True) -> compare two adjacent elements -> if they are found not in correct order, set flag back to False (the flag only remains true during the last round, when all elements are correctly sorted) [Q&A@stackoverflow](https://stackoverflow.com/questions/895371/bubble-sort-homework)"
   ]
  },
  {
   "cell_type": "markdown",
   "metadata": {},
   "source": [
    "- **Merge Sort (归并排序)**\n",
    "    - recursive\n",
    "    - Divide and Conquer (分治法)\n",
    "        - divide the unsorted list into multiple sublists\n",
    "        - combine multiple ordered arrays to make one larger ordered array\n",
    "    - Time complexity: O(nlog(n)) - sort an array of N items in time proportional to NlogN\n",
    "    - Auxiliary Space: O(n) - uses extra space proportional to N\n",
    "    - Reference: [MERGESORT in Java](https://algs4.cs.princeton.edu/22mergesort/)"
   ]
  },
  {
   "cell_type": "markdown",
   "metadata": {},
   "source": [
    "> **Top-down implementation**: recursively splits the list into sublists until sublist size is 1, then merges those sublists to produce a sorted list\n",
    "\n",
    "![title](img/mergesortTD-bars.png)"
   ]
  },
  {
   "cell_type": "code",
   "execution_count": 20,
   "metadata": {},
   "outputs": [],
   "source": [
    "def merge_sort(listData):\n",
    "    if len(listData) <= 1:\n",
    "        return listData\n",
    "    left = []\n",
    "    right = []\n",
    "    # divide\n",
    "    mid = int(len(listData)/2)\n",
    "    print('Before Divide: ', listData)\n",
    "    left = listData[:mid]\n",
    "    right = listData[mid:]\n",
    "\n",
    "    # merge        \n",
    "    left = merge_sort(left)\n",
    "    right = merge_sort(right)\n",
    "    print('Left: ', left)\n",
    "    print('Right: ', right)\n",
    "    print('After Merge: ', merge(left, right))\n",
    "    return merge(left, right)\n",
    "\n",
    "def merge(left, right):\n",
    "    result = []\n",
    "    while left and right:\n",
    "        if left[0] <= right[0]:\n",
    "            result.append(left[0])\n",
    "            left = left[1:]\n",
    "        else:\n",
    "            result.append(right[0])\n",
    "            right = right[1:]\n",
    "    \n",
    "    while left:\n",
    "        result.append(left[0])\n",
    "        left = left[1:]\n",
    "    while right:\n",
    "        result.append(right[0])\n",
    "        right = right[1:]\n",
    "    \n",
    "    return result"
   ]
  },
  {
   "cell_type": "code",
   "execution_count": 21,
   "metadata": {},
   "outputs": [
    {
     "name": "stdout",
     "output_type": "stream",
     "text": [
      "Before Divide:  [5, 12, 3, 13, 8, 23, 21, 39, 22, 15]\n",
      "Before Divide:  [5, 12, 3, 13, 8]\n",
      "Before Divide:  [5, 12]\n",
      "Left:  [5]\n",
      "Right:  [12]\n",
      "After Merge:  [5, 12]\n",
      "Before Divide:  [3, 13, 8]\n",
      "Before Divide:  [13, 8]\n",
      "Left:  [13]\n",
      "Right:  [8]\n",
      "After Merge:  [8, 13]\n",
      "Left:  [3]\n",
      "Right:  [8, 13]\n",
      "After Merge:  [3, 8, 13]\n",
      "Left:  [5, 12]\n",
      "Right:  [3, 8, 13]\n",
      "After Merge:  [3, 5, 8, 12, 13]\n",
      "Before Divide:  [23, 21, 39, 22, 15]\n",
      "Before Divide:  [23, 21]\n",
      "Left:  [23]\n",
      "Right:  [21]\n",
      "After Merge:  [21, 23]\n",
      "Before Divide:  [39, 22, 15]\n",
      "Before Divide:  [22, 15]\n",
      "Left:  [22]\n",
      "Right:  [15]\n",
      "After Merge:  [15, 22]\n",
      "Left:  [39]\n",
      "Right:  [15, 22]\n",
      "After Merge:  [15, 22, 39]\n",
      "Left:  [21, 23]\n",
      "Right:  [15, 22, 39]\n",
      "After Merge:  [15, 21, 22, 23, 39]\n",
      "Left:  [3, 5, 8, 12, 13]\n",
      "Right:  [15, 21, 22, 23, 39]\n",
      "After Merge:  [3, 5, 8, 12, 13, 15, 21, 22, 23, 39]\n"
     ]
    },
    {
     "data": {
      "text/plain": [
       "[3, 5, 8, 12, 13, 15, 21, 22, 23, 39]"
      ]
     },
     "execution_count": 21,
     "metadata": {},
     "output_type": "execute_result"
    }
   ],
   "source": [
    "test = [5, 12, 3, 13, 8, 23, 21, 39, 22, 15]\n",
    "test = merge_sort(test)\n",
    "test"
   ]
  },
  {
   "cell_type": "markdown",
   "metadata": {},
   "source": [
    "> **Bottom-up implementation**: treats the list as an array of n sublists of size 1, and iteratively merges sublists back and forth between two buffers"
   ]
  },
  {
   "cell_type": "code",
   "execution_count": 22,
   "metadata": {},
   "outputs": [],
   "source": [
    "def merge_sort(listData):\n",
    "    if not listData:\n",
    "        return listData\n",
    "    \n",
    "    sublists = [[x] for x in listData]\n",
    "    print('Original list: ', listData)\n",
    "    print('Splitted into: ', sublists)\n",
    "    print('Merging...')\n",
    "    i = 1\n",
    "    while len(sublists) > 1:\n",
    "        sublists = merge_lists(sublists)\n",
    "        print('After Merge #{}: {}'.format(i,sublists))\n",
    "        i += 1\n",
    "    return sublists[0]\n",
    "\n",
    "\n",
    "def merge_lists(sublists):\n",
    "    result = []\n",
    "    for i in range(0, len(sublists)//2):\n",
    "        result.append(merge(sublists[i*2], sublists[i*2+1]))\n",
    "    if len(sublists) % 2:\n",
    "        result.append(sublists[-1])\n",
    "    return result\n",
    "\n",
    "\n",
    "def merge(left, right):\n",
    "    result = []\n",
    "    while left and right:\n",
    "        if left[0] <= right[0]:\n",
    "            result.append(left[0])\n",
    "            left = left[1:]\n",
    "        else:\n",
    "            result.append(right[0])\n",
    "            right = right[1:]\n",
    "    \n",
    "    while left:\n",
    "        result.append(left[0])\n",
    "        left = left[1:]\n",
    "    while right:\n",
    "        result.append(right[0])\n",
    "        right = right[1:]\n",
    "    \n",
    "    return result        "
   ]
  },
  {
   "cell_type": "code",
   "execution_count": 23,
   "metadata": {},
   "outputs": [
    {
     "name": "stdout",
     "output_type": "stream",
     "text": [
      "Original list:  [5, 12, 3, 13, 20, 8, 23, 21, 39, 22, 15]\n",
      "Splitted into:  [[5], [12], [3], [13], [20], [8], [23], [21], [39], [22], [15]]\n",
      "Merging...\n",
      "After Merge #1: [[5, 12], [3, 13], [8, 20], [21, 23], [22, 39], [15]]\n",
      "After Merge #2: [[3, 5, 12, 13], [8, 20, 21, 23], [15, 22, 39]]\n",
      "After Merge #3: [[3, 5, 8, 12, 13, 20, 21, 23], [15, 22, 39]]\n",
      "After Merge #4: [[3, 5, 8, 12, 13, 15, 20, 21, 22, 23, 39]]\n"
     ]
    },
    {
     "data": {
      "text/plain": [
       "[3, 5, 8, 12, 13, 15, 20, 21, 22, 23, 39]"
      ]
     },
     "execution_count": 23,
     "metadata": {},
     "output_type": "execute_result"
    }
   ],
   "source": [
    "test = [5, 12, 3, 13, 20, 8, 23, 21, 39, 22, 15]\n",
    "merge_sort(test)"
   ]
  },
  {
   "cell_type": "markdown",
   "metadata": {},
   "source": [
    "- **Quick Sort**\n",
    "    - divide and conquer: first divides a large array into two smaller sub-arrays, then recursively sort both\n",
    "        - pick an element, called a _pivot_\n",
    "        - partitioning: reorder the array so that all elements with values less than the pivot come before it, the other after it, after this partitioning, the pivot is in its final position\n",
    "        - recursively apply the above steps to the sub-array of elements with smaller values and greater values separately\n",
    "    - inplace sort -> space: O(1)\n",
    "    - time complexity:\n",
    "        - worse case: O(n^2) -> when pivot is already in the right place\n",
    "        - average/best case: O(nlog(n)) -> pivot will move to middle every time\n",
    "    - configure the program to run parallel, select the median of the last a few elements instead of the last element\n",
    "    - [Analysis of QuickSort and Proof of Time Complexity](http://www.cs.swan.ac.uk/~csfm/Courses/CS_332/quicksort.pdf)\n",
    "    - example: \n",
    "    > The shaded element is the pivot. It is always chosen as the last element of the partition. However, always choosing the last element in the partition as the pivot in this way results in poor performance (O(n²)) on already sorted arrays, or arrays of identical elements. Since sub-arrays of sorted / identical elements crop up a lot towards the end of a sorting procedure on a large set, versions of the quicksort algorithm that choose the pivot as the middle element run much more quickly than the algorithm described in this diagram on large sets of numbers.\n",
    "    \n",
    "    ![title](img/Quicksort-diagram.png)\n",
    "    "
   ]
  },
  {
   "cell_type": "code",
   "execution_count": 24,
   "metadata": {},
   "outputs": [],
   "source": [
    "# Lomuto partition scheme\n",
    "def quick_sort(listData, low=0, high=-1):\n",
    "    if high == -1:\n",
    "        high = len(listData) - 1\n",
    "    \n",
    "    if low < high:\n",
    "        pivot_idx = partition(listData, low, high)\n",
    "        quick_sort(listData, low, pivot_idx-1)\n",
    "        quick_sort(listData, pivot_idx+1, high)\n",
    "    \n",
    "    if high - low == len(listData) - 1:\n",
    "        return listData\n",
    "    \n",
    "def partition(listData, low, high):\n",
    "    mid = (low+high)//2\n",
    "    if listData[mid] < listData[low]:\n",
    "        swap(listData[mid], listData[low])\n",
    "    if listData[high] < listData[low]:\n",
    "        swap(listData[high], listData[low])\n",
    "    if listData[mid] < listData[high]:\n",
    "        swap(listData[high], listData[mid])\n",
    "    pivot = listData[high]\n",
    "    idx = low\n",
    "    for i in range(low, high):\n",
    "        if listData[i] <= pivot:\n",
    "            listData[idx], listData[i] = listData[i], listData[idx]\n",
    "            print(listData)\n",
    "            idx += 1\n",
    "    listData[idx], listData[high] = pivot, listData[idx]\n",
    "    return idx\n",
    "\n",
    "def swap(a,b):\n",
    "    a, b = b, a\n",
    "# after move every element smaller than pivot by swapping the place-holder for pivot and those elements,\n",
    "# then swap the pivot with its place-holder, therefore the pivot is moved to its final position"
   ]
  },
  {
   "cell_type": "code",
   "execution_count": 25,
   "metadata": {},
   "outputs": [
    {
     "name": "stdout",
     "output_type": "stream",
     "text": [
      "[4, 21, 1, 3, 9, 20, 25, 6, 21, 14]\n",
      "[4, 1, 21, 3, 9, 20, 25, 6, 21, 14]\n",
      "[4, 1, 3, 21, 9, 20, 25, 6, 21, 14]\n",
      "[4, 1, 3, 9, 21, 20, 25, 6, 21, 14]\n",
      "[4, 1, 3, 9, 6, 20, 25, 21, 21, 14]\n",
      "[4, 1, 3, 9, 6, 14, 25, 21, 21, 20]\n",
      "[4, 1, 3, 9, 6, 14, 25, 21, 21, 20]\n",
      "[4, 1, 3, 9, 6, 14, 25, 21, 21, 20]\n",
      "[1, 4, 3, 6, 9, 14, 25, 21, 21, 20]\n",
      "[1, 3, 4, 6, 9, 14, 20, 21, 21, 25]\n",
      "[1, 3, 4, 6, 9, 14, 20, 21, 21, 25]\n",
      "[1, 3, 4, 6, 9, 14, 20, 21, 21, 25]\n"
     ]
    },
    {
     "data": {
      "text/plain": [
       "[1, 3, 4, 6, 9, 14, 20, 21, 21, 25]"
      ]
     },
     "execution_count": 25,
     "metadata": {},
     "output_type": "execute_result"
    }
   ],
   "source": [
    "test = [21, 4, 1, 3, 9, 20, 25, 6, 21, 14]\n",
    "quick_sort(test)"
   ]
  },
  {
   "cell_type": "markdown",
   "metadata": {},
   "source": [
    "## 4. Maps & Hashing (映射 & 散列)\n",
    "- **Map**\n",
    "    - key-value pairs\n",
    "    - map concept -> in Python: built-in data type > dictionary\n",
    "    - Sets: collection of things without order, don't allow repeated elements\n",
    "\n",
    "\n",
    "- **Hashing**: do look-ups in constant time \n",
    "    - list, set: do look-ups in linear time through every element\n",
    "    - stack, queue: most recent or oldest element instantly\n",
    "    - priority queue: element with highest priority\n",
    "    \n",
    "    - **Hash Function**: value -> hash value/hash code/hash/digest\n",
    "        - any function that can be used to map data of arbitrary size onto data of fixed size\n",
    "        - collisions: map several different keys to the same index \n",
    "            - domain of a hash function is larger than its range\n",
    "            - each slot of a hash table is associated with a set of records (bucket)\n",
    "            - hash value = bucket listing or bucket index\n",
    "        - load factor = # of entries / # of buckets (载荷因子)\n",
    "            - describe how full a hash table is\n",
    "            - use as an indicator for when to rehash: sparse or full\n",
    "            - greater than 1: guaranteed to have collisions\n",
    "            \n",
    "- **Hash Maps**:\n",
    "    - <key, value> -> Hash Function on Key -> Hash Value <k,v> in Hash Table\n",
    "    - string keys"
   ]
  },
  {
   "cell_type": "code",
   "execution_count": 26,
   "metadata": {},
   "outputs": [],
   "source": [
    "class HashTable(object):\n",
    "    def __init__(self):\n",
    "        self.table = [None]*10000\n",
    "    \n",
    "    def store(self, string):\n",
    "        idx = self.calculate_hash_value(string)\n",
    "        if self.table[idx]:\n",
    "            self.table[idx].append(string)\n",
    "        else:\n",
    "            self.table[idx] = [string]\n",
    "            \n",
    "    def lookup(self, string):\n",
    "        idx = self.calculate_hash_value(string)\n",
    "        if self.table[idx]:\n",
    "            return idx\n",
    "        else:\n",
    "            return -1\n",
    "        \n",
    "    def calculate_hash_value(self, string):\n",
    "        hash_value = ord(string[0]) * 100 + ord(string[1])\n",
    "        return hash_value"
   ]
  },
  {
   "cell_type": "code",
   "execution_count": 27,
   "metadata": {},
   "outputs": [
    {
     "name": "stdout",
     "output_type": "stream",
     "text": [
      "-1\n",
      "8469\n",
      "8469\n"
     ]
    }
   ],
   "source": [
    "hs = HashTable()\n",
    "\n",
    "print(hs.lookup('TEST'))\n",
    "hs.store('TEST')\n",
    "print(hs.lookup('TEST'))\n",
    "hs.store('TERM')\n",
    "print(hs.lookup('TERM'))"
   ]
  },
  {
   "cell_type": "markdown",
   "metadata": {},
   "source": [
    "## 5. Trees\n",
    "- Basics:\n",
    "    - extension of a linked list\n",
    "    - root -> node -> leaf (branch)\n",
    "        - completely connected\n",
    "        - no cycles\n",
    "        - terminology:\n",
    "            - level, parent-child relationship, ancestor-descendant, leaf/internal node, path, height, depth (inverse to height)\n",
    "            - root: level 1, height=n, depth=0\n",
    "            - leaf: level n+1, height=0, depth=n\n",
    "\n",
    "- **Tree Traversal**\n",
    "    - DFS: depth first search > explore child nodes, which have priority\n",
    "        - Pre-Order: check off a node first before traversal\n",
    "        - In-Order: first check off the leaf then the parent\n",
    "        - Post-Order: first check off the leaf, if its parent has other leaves, check off them and then come back to check off the parent node\n",
    "    - BFS: breadth first search > explore every node on the same level we are currently on before visiting child nodes\n",
    "\n",
    "\n",
    "- Binary Trees: parent nodes have at most two children\n",
    "    - Search: O(n)\n",
    "    - Delete: O(n) -> the run time is linear\n",
    "    - Insert: log(# of nodes at this level) = rank of level \n",
    "\n",
    "\n",
    "- **Binary Search Trees** (BST)\n",
    "    - binary tree: parent node has most two children\n",
    "    - sorted: node.left.value < node.value < node.right.value\n",
    "    - search, insert, delete\n",
    "    - complications: \n",
    "        - unbalanced: distribution of the nodes is skewed > worst case O(n) for search, insert, delete\n",
    "        \n",
    "- Heaps (not necessary BST)\n",
    "    - root: maximum or minimum\n",
    "    - max heap\n",
    "    - min heap\n",
    "    - complete\n",
    "    - peek: O(1)\n",
    "    - search: \n",
    "        - worst: O(n) - linear time operation\n",
    "        - average: O(n/2) = O(n)\n",
    "    - insert: first stick the element to the next empty spot, then heapify by comparing the child with parent, swap if needed\n",
    "    - extract:\n",
    "        - worst case: O(log(n)) = height of the tree\n",
    "    - implementation: array (sorted, from left to right -> top-down)\n",
    "    \n",
    "- Self-Balancing Trees\n",
    "    - tries to minimize the number of levels it uses\n",
    "        - red-black tree (extension of BST)\n",
    "            - color property\n",
    "            - rule 2: existence of null leaf nodes (black)\n",
    "            - rule 3: if a node is red, both of its children must be black\n",
    "            - rule 4 (optional): root node is black\n",
    "            - rule 5: every node to its descendant null nodes must contain the same number of black nodes\n",
    "        - red-black tree + BST rules: insert red nodes only (change back to black if it is root node)\n",
    "    - balanced tree: nodes condensed to only a few levels\n",
    "    - unbalanced tree: nodes spread out among many levels\n",
    "        - most extreme type: linked list, where every node has only one child\n",
    "    "
   ]
  },
  {
   "cell_type": "code",
   "execution_count": 28,
   "metadata": {},
   "outputs": [],
   "source": [
    "class Node(object):\n",
    "    def __init__(self, value):\n",
    "        self.value = value\n",
    "        self.left = None\n",
    "        self.right = None\n",
    "        \n",
    "        \n",
    "class BinaryTree(object):\n",
    "    def __init__(self, root):\n",
    "        self.root = Node(root)\n",
    "        \n",
    "    def search(self, val):\n",
    "        return self.preorder_search(self.root, val)\n",
    "    \n",
    "    def print_tree(self, mode='pre_order'):\n",
    "        if mode == 'pre_order':\n",
    "            return self.preorder_print(self.root, [])\n",
    "        elif mode == 'in_order':\n",
    "            return self.inorder_print(self.root, [])\n",
    "        else:\n",
    "            return self.postorder_print(self.root, [])\n",
    "        \n",
    "    def preorder_search(self, start, val):\n",
    "        if start:\n",
    "            if start.value == val:\n",
    "                return True\n",
    "            else:\n",
    "                return self.preorder_search(start.left, val) or self.preorder_search(start.right, val)\n",
    "        return False\n",
    "    \n",
    "    def preorder_print(self, start, traversal=[]):\n",
    "        if start:\n",
    "            traversal.append(start.value)\n",
    "            traversal = self.preorder_print(start.left, traversal)\n",
    "            traversal = self.preorder_print(start.right, traversal)\n",
    "        return traversal\n",
    "    \n",
    "    def inorder_print(self, start, traversal=[]):\n",
    "        if start:\n",
    "            traversal = self.inorder_print(start.left, traversal)\n",
    "            traversal.append(start.value)\n",
    "            traversal = self.inorder_print(start.right, traversal)\n",
    "        return traversal\n",
    "    \n",
    "    def postorder_print(self, start, traversal=[]):\n",
    "        if start:\n",
    "            traversal = self.postorder_print(start.left, traversal)\n",
    "            traversal = self.postorder_print(start.right, traversal)\n",
    "            traversal.append(start.value)\n",
    "        return traversal"
   ]
  },
  {
   "cell_type": "code",
   "execution_count": 29,
   "metadata": {
    "scrolled": true
   },
   "outputs": [
    {
     "name": "stdout",
     "output_type": "stream",
     "text": [
      "True\n",
      "[4, 5, 2, 3, 1]\n"
     ]
    }
   ],
   "source": [
    "tree = BinaryTree(1)\n",
    "tree.root.left = Node(2)\n",
    "tree.root.right = Node(3)\n",
    "tree.root.left.left = Node(4)\n",
    "tree.root.left.right = Node(5)\n",
    "\n",
    "print(tree.search(4))\n",
    "print(tree.print_tree(mode='post_order'))"
   ]
  },
  {
   "cell_type": "code",
   "execution_count": 30,
   "metadata": {},
   "outputs": [],
   "source": [
    "# define a class for binary search tree\n",
    "class BST(object):\n",
    "    def __init__(self, root):\n",
    "        self.root = Node(root)\n",
    "        \n",
    "    def insert(self, val):\n",
    "        self.insert_helper(self.root, val)\n",
    "        \n",
    "    def insert_helper(self, node, val):\n",
    "        if node.value < val:\n",
    "            if node.right:\n",
    "                self.insert_helper(node.right, val)\n",
    "            else:\n",
    "                node.right = Node(val)\n",
    "        else:\n",
    "            if node.left:\n",
    "                self.insert_helper(node.left, val)\n",
    "            else:\n",
    "                node.left = Node(val)\n",
    "            \n",
    "    def search(self, val):\n",
    "        return self.search_helper(self.root, val)\n",
    "        \n",
    "    def search_helper(self, node, val):\n",
    "        if node:\n",
    "            if node.value == val:\n",
    "                return True\n",
    "            elif node.value < val:\n",
    "                 return self.search_helper(node.right, val)\n",
    "            else:\n",
    "                 return self.search_helper(node.left, val)\n",
    "        return False\n",
    "    \n",
    "    def print_tree(self):\n",
    "        return self.preorder_print(self.root, [])\n",
    "    \n",
    "    def preorder_print(self, start, traversal=[]):\n",
    "        if start:\n",
    "            traversal.append(start.value)\n",
    "            traversal = self.preorder_print(start.left, traversal)\n",
    "            traversal = self.preorder_print(start.right, traversal)\n",
    "        return traversal\n",
    "        "
   ]
  },
  {
   "cell_type": "code",
   "execution_count": 31,
   "metadata": {},
   "outputs": [
    {
     "name": "stdout",
     "output_type": "stream",
     "text": [
      "[4, 2, 1, 3, 5, 6, 7]\n",
      "True\n"
     ]
    }
   ],
   "source": [
    "tree = BST(4)\n",
    "\n",
    "tree.insert(2)\n",
    "tree.insert(1)\n",
    "tree.insert(3)\n",
    "tree.insert(5)\n",
    "tree.insert(6)\n",
    "tree.insert(7)\n",
    "\n",
    "print(tree.print_tree())\n",
    "print(tree.search(3))"
   ]
  },
  {
   "cell_type": "markdown",
   "metadata": {},
   "source": [
    "## 6. Graphs\n",
    "- [Wiki](https://en.wikipedia.org/wiki/Graph_(discrete_mathematics))\n",
    "- notations:\n",
    "    - vertex (pl. vertices) (顶点)\n",
    "    - edge (边)\n",
    "- directions & cycles\n",
    "    - inbound/outbound edge: relationship applys one way or both\n",
    "    - undirected edges\n",
    "    - cycle -> infinite loops?! -> acyclic\n",
    "    - DAG: Directed Acyclic Graph\n",
    "- connectivity -> which graph is stronger?\n",
    "    - disconnected\n",
    "    - weakly connected: \n",
    "    > A directed graph is weakly connected when only replacing all of the directed edges with undirected edges can cause it to be connected.\n",
    "    - connected: undirected graphs, there is some path between one vertex and every other vertex\n",
    "    - strongly connected: must have a path from every node and every other node"
   ]
  },
  {
   "cell_type": "markdown",
   "metadata": {},
   "source": [
    "### Graph Representations\n",
    "- OOP: vertex object, edge object\n",
    "- Edge List: 2-D list\n",
    "- Adjacency List: index - vertex ID, each space - list of nodes that vertex is adjacent to \n",
    "- Adjacency Matrices (邻接矩阵)\n",
    "     - diagonal all zeros (only be one when the node start and end to itself)\n",
    "     - symmetric about the diagonal"
   ]
  },
  {
   "cell_type": "code",
   "execution_count": 32,
   "metadata": {},
   "outputs": [],
   "source": [
    "class Node(object):\n",
    "    def __init__(self, value):\n",
    "        self.value = value\n",
    "        self.edges = []\n",
    "        \n",
    "class Edge(object):\n",
    "    def __init__(self, value, node_from, node_to):\n",
    "        self.value = value\n",
    "        self.node_from = node_from\n",
    "        self.node_to = node_to\n",
    "        \n",
    "class Graph(object):\n",
    "    def __init__(self, nodes=[], edges=[]):\n",
    "        self.nodes = nodes\n",
    "        self.edges = edges\n",
    "     \n",
    "    # keep both nodes and edges updated when either is inserted\n",
    "    def insert_node(self, new_node_val):\n",
    "        new_node = Node(new_node_val)\n",
    "        self.nodes.append(new_node)\n",
    "        \n",
    "    def insert_edge(self, new_edge_val, node_from_val, node_to_val):\n",
    "        from_found = None\n",
    "        to_found = None\n",
    "        for node in self.nodes:\n",
    "            if node_from_val == node.value:\n",
    "                from_found = node\n",
    "            if node_to_val == node.value:\n",
    "                to_found = node\n",
    "        if from_found == None:\n",
    "            from_found = Node(node_from_val)\n",
    "            self.nodes.append(from_found)\n",
    "        if to_found == None:\n",
    "            to_found = Node(node_to_val)\n",
    "            self.nodes.append(to_found)\n",
    "        new_edge = Edge(new_edge_val, from_found, to_found)\n",
    "        from_found.edges.append(new_edge)\n",
    "        to_found.edges.append(new_edge)\n",
    "        self.edges.append(new_edge)\n",
    "        \n",
    "    def get_edge_list(self):\n",
    "        return [(edge.value, edge.node_from.value, edge.node_to.value) for edge in self.edges]\n",
    "    \n",
    "    def get_adjacency_list(self):\n",
    "        max_index = max([node.value for node in self.nodes])\n",
    "        adjacency_list = [None for _ in range(max_index+1)]\n",
    "        edge_list = self.get_edge_list()\n",
    "        for edge_val, node_from_val, node_to_val in edge_list:\n",
    "            if adjacency_list[node_from_val]:\n",
    "                adjacency_list[node_from_val].append((node_to_val, edge_val))\n",
    "            else:\n",
    "                adjacency_list[node_from_val] = [(node_to_val, edge_val)]\n",
    "        return adjacency_list\n",
    "    \n",
    "    def get_adjacency_matrix(self):\n",
    "        max_index = max([node.value for node in self.nodes])\n",
    "        adjacency_matrix = [[0]*(max_index+1) for _ in range(max_index+1)]\n",
    "        edge_list = self.get_edge_list()\n",
    "        for edge_val, node_from_val, node_to_val in edge_list:\n",
    "            adjacency_matrix[node_from_val][node_to_val] = edge_val\n",
    "        return adjacency_matrix"
   ]
  },
  {
   "cell_type": "code",
   "execution_count": 33,
   "metadata": {},
   "outputs": [
    {
     "name": "stdout",
     "output_type": "stream",
     "text": [
      "[(100, 1, 2), (101, 1, 3), (102, 1, 4), (103, 3, 4), (104, 2, 5)]\n",
      "[None, [(2, 100), (3, 101), (4, 102)], [(5, 104)], [(4, 103)], None, None]\n",
      "[[0, 0, 0, 0, 0, 0], [0, 0, 100, 101, 102, 0], [0, 0, 0, 0, 0, 104], [0, 0, 0, 0, 103, 0], [0, 0, 0, 0, 0, 0], [0, 0, 0, 0, 0, 0]]\n"
     ]
    }
   ],
   "source": [
    "graph = Graph()\n",
    "graph.insert_edge(100, 1, 2)\n",
    "graph.insert_edge(101, 1, 3)\n",
    "graph.insert_edge(102, 1, 4)\n",
    "graph.insert_edge(103, 3, 4)\n",
    "graph.insert_edge(104, 2, 5)\n",
    "\n",
    "print(graph.get_edge_list())\n",
    "print(graph.get_adjacency_list())\n",
    "print(graph.get_adjacency_matrix())"
   ]
  },
  {
   "cell_type": "code",
   "execution_count": 34,
   "metadata": {
    "scrolled": false
   },
   "outputs": [
    {
     "data": {
      "text/plain": [
       "[[None, None, None, None, None],\n",
       " [None, None, None, None, None],\n",
       " [None, None, None, None, None],\n",
       " [None, None, None, None, None],\n",
       " [None, None, None, None, None]]"
      ]
     },
     "execution_count": 34,
     "metadata": {},
     "output_type": "execute_result"
    }
   ],
   "source": [
    "# be careful when defining the initial adjacent list or matrix\n",
    "# this makes a list with five references to the same list\n",
    "# when assign value to a single value, it alters all five \n",
    "[[None]*5]*5"
   ]
  },
  {
   "cell_type": "code",
   "execution_count": 35,
   "metadata": {},
   "outputs": [
    {
     "data": {
      "text/plain": [
       "[[None, None, None, None, None],\n",
       " [None, None, None, None, None],\n",
       " [None, None, None, None, None],\n",
       " [None, None, None, None, None],\n",
       " [None, None, None, None, None]]"
      ]
     },
     "execution_count": 35,
     "metadata": {},
     "output_type": "execute_result"
    }
   ],
   "source": [
    "# use list comprehension instead to avoid and create multiple separate stand alone lists\n",
    "[[None]*5 for _ in range(5)]"
   ]
  },
  {
   "cell_type": "markdown",
   "metadata": {},
   "source": [
    "### Graph Traversal/Search:\n",
    "- depth first search (深度优先搜索法)\n",
    "    - follow one path as far as it goes, until there is no more unvisited adjacent nodes, go back to the last node which has unvisited adjacent nodes \n",
    "    - stack\n",
    "    - recursion: O(|E|+|V|) explicitly visit every edge and vertex once/twice, |V| depends on the data structure used\n",
    "        - base case: picking an edge, marking a node as seen until run out of new nodes to explore\n",
    "        - move back to the last level of recursion: go back to the previous node in the search\n",
    "- breadth first search (广度优先搜索法)\n",
    "    > Breadth first traversal is accomplished by enqueueing each level of a tree sequentially as the root of any subtree is encountered.\n",
    "    - Root case: The traversal queue is initially empty so the root node must be added before the general case.\n",
    "    - General case: Process any items in the queue, while also expanding their children. Stop if the queue is empty. The general case will halt after processing the bottom level as leaf nodes have no children.\n",
    "    \n",
    "    - queue: add marked node to \n",
    "    - complexity: O(|E|+|V|)\n",
    "    \n",
    "- basic graph traversals can be implemented in more complicated graph-based algorithms"
   ]
  },
  {
   "cell_type": "code",
   "execution_count": 36,
   "metadata": {},
   "outputs": [],
   "source": [
    "class Node(object):\n",
    "    def __init__(self, value):\n",
    "        self.value = value\n",
    "        self.edges = []\n",
    "        self.visited = False\n",
    "        \n",
    "        \n",
    "class Edge(object):\n",
    "    def __init__(self, value, node_from, node_to):\n",
    "        self.value = value\n",
    "        self.node_from = node_from\n",
    "        self.node_to = node_to\n",
    "        \n",
    "        \n",
    "class Graph(object):\n",
    "    def __init__(self, nodes=None, edges=None):\n",
    "        self.nodes = nodes or []\n",
    "        self.edges = edges or []\n",
    "        self.node_names = []\n",
    "        self._node_map = {}\n",
    "        \n",
    "    def set_node_names(self, names):\n",
    "        \"Node numbers are 0 based\"\n",
    "        self.node_names = list(names)\n",
    "        \n",
    "    def insert_node(self, new_node_val):\n",
    "        \"Insert a new node with value new_node_val\"\n",
    "        new_node = Node(new_node_val)\n",
    "        self.nodes.append(new_node)\n",
    "        self._node_map[new_node_val] = new_node\n",
    "        return new_node\n",
    "    \n",
    "    def insert_edge(self, new_edge_val, node_from_val, node_to_val):\n",
    "        \"Insert a new edge, create new nodes if necessary\"\n",
    "        nodes = {node_from_val: None, node_to_val: None}\n",
    "        for node in self.nodes:\n",
    "            if node.value in nodes:\n",
    "                nodes[node.value] = node\n",
    "                if all(nodes.values()):\n",
    "                    break\n",
    "        for node_val in nodes:\n",
    "            nodes[node_val] = nodes[node_val] or self.insert_node(node_val)\n",
    "        node_from = nodes[node_from_val]\n",
    "        node_to = nodes[node_to_val]\n",
    "        new_edge = Edge(new_edge_val, node_from, node_to)\n",
    "        node_from.edges.append(new_edge)\n",
    "        node_to.edges.append(new_edge)\n",
    "        self.edges.append(new_edge)\n",
    "        \n",
    "    def get_edge_list(self):\n",
    "        return [(e.value, e.node_from.value, e.node_to.value) for e in self.edges]\n",
    "    \n",
    "    def get_edge_list_names(self):\n",
    "        return [(e.value, self.node_names[e.node_from.value],\n",
    "                self.node_names[e.node_to.value]) for e in self.edges]\n",
    "    \n",
    "    def get_adjacency_list(self):\n",
    "        max_index = max([node.value for node in self.nodes])\n",
    "        adjacency_list = [[] for _ in range(max_index+1)]\n",
    "        for edge in self.edges:\n",
    "            from_value, to_value = edge.node_from.value, edge.node_to.value\n",
    "            adjacency_list[from_value].append((to_value, edge.value))\n",
    "        return [a or None for a in adjacency_list]\n",
    "    \n",
    "    def get_adjacency_list_names(self):\n",
    "        adjacency_list = self.get_adjacency_list()\n",
    "        def convert_to_names(pair, graph=self):\n",
    "            node_number, value = pair\n",
    "            return (graph.node_names[node_number], value)\n",
    "        def map_conversion(adjacency_list_for_node):\n",
    "            if adjacency_list_for_node is None:\n",
    "                return None\n",
    "            return list(map(convert_to_names, adjacency_list_for_node))\n",
    "        return [map_conversion(adjacency_list_for_node) for adjacency_list_for_node in adjacency_list]\n",
    "    \n",
    "    def get_adjacency_matrix(self):\n",
    "        max_index = max([node.value for node in self.nodes])\n",
    "        adjacency_matrix = [[0]*(max_index+1) for _ in range(max_index+1)]\n",
    "        for edge in self.edges:\n",
    "            from_index, to_index = edge.node_from.value, edge.node_to.value\n",
    "            adjacency_matrix[from_index][to_index] = edge.value\n",
    "        return adjacency_matrix\n",
    "    \n",
    "    def find_node(self, node_number):\n",
    "        return self._node_map.get(node_number)\n",
    "    \n",
    "    def _clear_visited(self):\n",
    "        for node in self.nodes:\n",
    "            node.visited = False\n",
    "    \n",
    "    def dfs_helper(self, start_node):\n",
    "        '''\n",
    "        A recursive implementation of Depth First Search iterating through a node's edges.\n",
    "        The output should be a list of numbers corresponding to the values of the traversed nodes.\n",
    "        ARGUMENTS: start_node is the starting Node\n",
    "        MODIFIES: the value of the visited property of nodes in self.nodes\n",
    "        RETURN: a list of the traversed node values (integers)\n",
    "        '''\n",
    "        ret_list = [start_node.value]\n",
    "        start_node.visited = True\n",
    "        edges_left = [e for e in start_node.edges if e.node_to.value != start_node.value]\n",
    "        for edge in edges_left:\n",
    "            if not edge.node_to.visited:\n",
    "                ret_list.extend(self.dfs_helper(edge.node_to))\n",
    "        return ret_list\n",
    "    \n",
    "    def dfs(self, start_node_num):\n",
    "        '''\n",
    "        Outputs a list of numbers corresponding to the traversed nodes in a Depth First Search.\n",
    "        ARGUMENTS: start_node_num is the starting node number (integer)\n",
    "        MODIFIES: the value of the visited property of nodes in self.nodes\n",
    "        RETURN: a list of the node values (integers)\n",
    "        '''\n",
    "        self._clear_visited()\n",
    "        start_node = self.find_node(start_node_num)\n",
    "        return self.dfs_helper(start_node)\n",
    "    \n",
    "    def dfs_names(self, start_node_num):\n",
    "        return [self.node_names[num] for num in self.dfs(start_node_num)]\n",
    "    \n",
    "    def dfs_iter(self, start_node_num):\n",
    "        self._clear_visited()\n",
    "        start_node = self.find_node(start_node_num)\n",
    "        stack = [start_node]\n",
    "        ret_list = []\n",
    "        while stack:\n",
    "            node = stack.pop()\n",
    "            if not node.visited:\n",
    "                ret_list.append(node.value)\n",
    "                node.visited = True\n",
    "                for edge in node.edges: \n",
    "                    if edge.node_from.value == node.value:\n",
    "                        stack.append(edge.node_to) \n",
    "        return ret_list\n",
    "                    \n",
    "    def dfs_names_iter(self, start_node_num):\n",
    "        return [self.node_names[num] for num in self.dfs_iter(start_node_num)]\n",
    "    \n",
    "    def bfs(self, start_node_num):\n",
    "        '''\n",
    "        A iterative implementation of Breadth First Search iterating through a node's edges.\n",
    "        The output is a list of numbers corresponding to the traversed nodes.\n",
    "        ARGUMENTS: start_node_num is the node number (integer)\n",
    "        MODIFIES: the value of the visited property of nodes in self.nodes\n",
    "        RETURN: a list of node values (integers)\n",
    "        '''\n",
    "        node = self.find_node(start_node_num)\n",
    "        self._clear_visited()\n",
    "        ret_list = []\n",
    "        queue = [node]\n",
    "        node.visited = True\n",
    "        def enqueue(n, q=queue):\n",
    "            n.visited = True\n",
    "            q.append(n)\n",
    "        def unvisited_outbound_edge(n, e):\n",
    "            return ((e.node_from.value == n.value) and (not e.node_to.visited))\n",
    "        \n",
    "        while queue:\n",
    "            node = queue.pop(0)\n",
    "            ret_list.append(node.value)\n",
    "            for e in node.edges:\n",
    "                if unvisited_outbound_edge(node, e):\n",
    "                    enqueue(e.node_to)\n",
    "        return ret_list\n",
    "    \n",
    "    def bfs_names(self, start_node_num):\n",
    "        return [self.node_names[num] for num in self.bfs(start_node_num)]"
   ]
  },
  {
   "cell_type": "markdown",
   "metadata": {},
   "source": [
    "> The non-recursive implementation is similar to breadth-first search but differs from it in two ways:\n",
    "   - it uses a stack instead of a queue, and\n",
    "   - it delays checking whether a vertex has been discovered until the vertex is popped from the stack rather than making this check before adding the vertex."
   ]
  },
  {
   "cell_type": "code",
   "execution_count": 37,
   "metadata": {},
   "outputs": [
    {
     "name": "stdout",
     "output_type": "stream",
     "text": [
      "Edge List\n",
      "[ (51, 'Mountain View', 'San Francisco'),\n",
      "  (51, 'San Francisco', 'Mountain View'),\n",
      "  (9950, 'Mountain View', 'Shanghai'),\n",
      "  (9950, 'Shanghai', 'Mountain View'),\n",
      "  (10375, 'Mountain View', 'Sao Paolo'),\n",
      "  (10375, 'Sao Paolo', 'Mountain View'),\n",
      "  (9900, 'San Francisco', 'Shanghai'),\n",
      "  (9900, 'Shanghai', 'San Francisco'),\n",
      "  (9130, 'San Francisco', 'Berlin'),\n",
      "  (9130, 'Berlin', 'San Francisco'),\n",
      "  (9217, 'London', 'Shanghai'),\n",
      "  (9217, 'Shanghai', 'London'),\n",
      "  (932, 'London', 'Berlin'),\n",
      "  (932, 'Berlin', 'London'),\n",
      "  (9471, 'London', 'Sao Paolo'),\n",
      "  (9471, 'Sao Paolo', 'London')]\n",
      "\n",
      "Adjacency List\n",
      "[ [(1, 51), (3, 9950), (5, 10375)],\n",
      "  [(0, 51), (3, 9900), (4, 9130)],\n",
      "  [(3, 9217), (4, 932), (5, 9471)],\n",
      "  [(0, 9950), (1, 9900), (2, 9217)],\n",
      "  [(1, 9130), (2, 932)],\n",
      "  [(0, 10375), (2, 9471)]]\n",
      "[ [('San Francisco', 51), ('Shanghai', 9950), ('Sao Paolo', 10375)],\n",
      "  [('Mountain View', 51), ('Shanghai', 9900), ('Berlin', 9130)],\n",
      "  [('Shanghai', 9217), ('Berlin', 932), ('Sao Paolo', 9471)],\n",
      "  [('Mountain View', 9950), ('San Francisco', 9900), ('London', 9217)],\n",
      "  [('San Francisco', 9130), ('London', 932)],\n",
      "  [('Mountain View', 10375), ('London', 9471)]]\n",
      "\n",
      "Adjacency Matrix\n",
      "[ [0, 51, 0, 9950, 0, 10375],\n",
      "  [51, 0, 0, 9900, 9130, 0],\n",
      "  [0, 0, 0, 9217, 932, 9471],\n",
      "  [9950, 9900, 9217, 0, 0, 0],\n",
      "  [0, 9130, 932, 0, 0, 0],\n",
      "  [10375, 0, 9471, 0, 0, 0]]\n",
      "\n",
      "Depth First Search\n",
      "['London', 'Shanghai', 'Mountain View', 'San Francisco', 'Berlin', 'Sao Paolo']\n",
      "['London', 'Sao Paolo', 'Mountain View', 'Shanghai', 'San Francisco', 'Berlin']\n",
      "\n",
      "Breadth First Search\n",
      "['London', 'Shanghai', 'Berlin', 'Sao Paolo', 'Mountain View', 'San Francisco']\n"
     ]
    }
   ],
   "source": [
    "graph = Graph()\n",
    "\n",
    "graph.set_node_names(('Mountain View',   # 0\n",
    "                      'San Francisco',   # 1\n",
    "                      'London',          # 2\n",
    "                      'Shanghai',        # 3\n",
    "                      'Berlin',          # 4\n",
    "                      'Sao Paolo',       # 5\n",
    "                      'Bangalore'))      # 6 \n",
    "\n",
    "graph.insert_edge(51, 0, 1)     # MV <-> SF\n",
    "graph.insert_edge(51, 1, 0)     # SF <-> MV\n",
    "graph.insert_edge(9950, 0, 3)   # MV <-> Shanghai\n",
    "graph.insert_edge(9950, 3, 0)   # Shanghai <-> MV\n",
    "graph.insert_edge(10375, 0, 5)  # MV <-> Sao Paolo\n",
    "graph.insert_edge(10375, 5, 0)  # Sao Paolo <-> MV\n",
    "graph.insert_edge(9900, 1, 3)   # SF <-> Shanghai\n",
    "graph.insert_edge(9900, 3, 1)   # Shanghai <-> SF\n",
    "graph.insert_edge(9130, 1, 4)   # SF <-> Berlin\n",
    "graph.insert_edge(9130, 4, 1)   # Berlin <-> SF\n",
    "graph.insert_edge(9217, 2, 3)   # London <-> Shanghai\n",
    "graph.insert_edge(9217, 3, 2)   # Shanghai <-> London\n",
    "graph.insert_edge(932, 2, 4)    # London <-> Berlin\n",
    "graph.insert_edge(932, 4, 2)    # Berlin <-> London\n",
    "graph.insert_edge(9471, 2, 5)   # London <-> Sao Paolo\n",
    "graph.insert_edge(9471, 5, 2)   # Sao Paolo <-> London\n",
    "# (6) 'Bangalore' is intentionally disconnected (no edges)\n",
    "# for this problem and should produce None in the\n",
    "# Adjacency List, etc.\n",
    "\n",
    "import pprint\n",
    "pp = pprint.PrettyPrinter(indent=2)\n",
    "\n",
    "print(\"Edge List\")\n",
    "pp.pprint(graph.get_edge_list_names())\n",
    "\n",
    "print(\"\\nAdjacency List\")\n",
    "pp.pprint(graph.get_adjacency_list())\n",
    "pp.pprint(graph.get_adjacency_list_names())\n",
    "\n",
    "print(\"\\nAdjacency Matrix\")\n",
    "pp.pprint(graph.get_adjacency_matrix())\n",
    "\n",
    "print(\"\\nDepth First Search\")\n",
    "pp.pprint(graph.dfs_names(2))\n",
    "pp.pprint(graph.dfs_names_iter(2))\n",
    "\n",
    "print(\"\\nBreadth First Search\")\n",
    "pp.pprint(graph.bfs_names(2))"
   ]
  },
  {
   "cell_type": "markdown",
   "metadata": {},
   "source": [
    "**Eulerian Path**: visit every edge exactly once\n",
    "    - Eulerian Cycle: traverse each node only once and end up at the start node\n",
    "    - all vertices in the graph have an even degree\n",
    "    \n",
    "**Hamiltonian Path**"
   ]
  },
  {
   "cell_type": "markdown",
   "metadata": {},
   "source": [
    "## 7. Case Studies\n",
    "- Shortest Path Problem:\n",
    "    - Dijkstra's Algorithm\n",
    "- Knapsack Problem\n",
    "    - Dynamic Programming\n",
    "- Travelling Salesmann Problem\n",
    "    - Exact and Approximate Algorithms"
   ]
  },
  {
   "cell_type": "markdown",
   "metadata": {},
   "source": [
    "### Shortest Path Problem\n",
    "- scenarios:\n",
    "     - weighted edges, sum of the edges as small as possible\n",
    "     - unweighted graphs: BFS\n",
    "- Dijkstra's Algorithm \n",
    "     - weighted undirected graph\n",
    "     - worst O(|V|^2) - optimized O(|E|+|V|log(|V|))\n",
    "     - references: [Q&A@stackoverflow](https://stackoverflow.com/questions/22897209/dijkstras-algorithm-in-python),  [post](https://dev.to/mxl/dijkstras-algorithm-in-python-algorithms-for-beginners-dkc)\n",
    "     - example and graph to be tested: [source: Wikipedia](https://en.wikipedia.org/wiki/Dijkstra%27s_algorithm)\n",
    "     "
   ]
  },
  {
   "attachments": {
    "Dijkstra_Animation.gif": {
     "image/gif": "[encoded data removed]"
    }
   },
   "cell_type": "markdown",
   "metadata": {},
   "source": [
    "![Dijkstra_Animation.gif](attachment:Dijkstra_Animation.gif)"
   ]
  },
  {
   "cell_type": "code",
   "execution_count": 38,
   "metadata": {
    "scrolled": false
   },
   "outputs": [
    {
     "name": "stdout",
     "output_type": "stream",
     "text": [
      "\n",
      "Adjacency List\n",
      "[ None,\n",
      "  [(2, 7), (3, 9), (6, 14)],\n",
      "  [(1, 7), (3, 10), (4, 15)],\n",
      "  [(1, 9), (2, 10), (4, 11), (6, 2)],\n",
      "  [(2, 15), (3, 11), (5, 6)],\n",
      "  [(6, 9), (4, 6)],\n",
      "  [(1, 14), (3, 2), (5, 9)]]\n",
      "\n",
      "Adjacency Matrix\n",
      "[ [0, 0, 0, 0, 0, 0, 0],\n",
      "  [0, 0, 7, 9, 0, 0, 14],\n",
      "  [0, 7, 0, 10, 15, 0, 0],\n",
      "  [0, 9, 10, 0, 11, 0, 2],\n",
      "  [0, 0, 15, 11, 0, 6, 0],\n",
      "  [0, 0, 0, 0, 6, 0, 9],\n",
      "  [0, 14, 0, 2, 0, 9, 0]]\n"
     ]
    }
   ],
   "source": [
    "graph = Graph()\n",
    "\n",
    "graph.insert_edge(7, 1, 2)\n",
    "graph.insert_edge(7, 2, 1)\n",
    "graph.insert_edge(9, 1, 3)\n",
    "graph.insert_edge(9, 3, 1)\n",
    "graph.insert_edge(14, 1, 6)\n",
    "graph.insert_edge(14, 6, 1)\n",
    "graph.insert_edge(10, 2, 3)\n",
    "graph.insert_edge(10, 3, 2)\n",
    "graph.insert_edge(15, 2, 4)\n",
    "graph.insert_edge(15, 4, 2)\n",
    "graph.insert_edge(11, 3, 4)\n",
    "graph.insert_edge(11, 4, 3)\n",
    "graph.insert_edge(2, 3, 6)\n",
    "graph.insert_edge(2, 6, 3)\n",
    "graph.insert_edge(9, 6, 5)\n",
    "graph.insert_edge(9, 5, 6)\n",
    "graph.insert_edge(6, 4, 5)\n",
    "graph.insert_edge(6, 5, 4)\n",
    "\n",
    "print(\"\\nAdjacency List\")\n",
    "pp.pprint(graph.get_adjacency_list())\n",
    "\n",
    "print(\"\\nAdjacency Matrix\")\n",
    "pp.pprint(graph.get_adjacency_matrix())"
   ]
  },
  {
   "cell_type": "code",
   "execution_count": 39,
   "metadata": {},
   "outputs": [],
   "source": [
    "def dijkstra(graph, source):\n",
    "    \n",
    "    vertices, edges = graph.nodes, graph.edges\n",
    "    dist = dict()\n",
    "    prev = dict()\n",
    "        \n",
    "    for vertex in vertices:\n",
    "        dist[vertex.value] = float(\"inf\")\n",
    "        prev[vertex.value] = None\n",
    "    \n",
    "    dist[source] = 0\n",
    "    Q = vertices.copy()\n",
    "    while Q:\n",
    "        u = min(Q, key=lambda vertex: dist[vertex.value])\n",
    "        Q.remove(u)\n",
    "        if dist[u.value] == float(\"inf\"):\n",
    "            break\n",
    "        for e in u.edges:\n",
    "            alt = e.value + dist[u.value]\n",
    "            if alt < dist[e.node_to.value]:\n",
    "                dist[e.node_to.value] = alt\n",
    "                prev[e.node_to.value] = u.value\n",
    "    return dist"
   ]
  },
  {
   "cell_type": "code",
   "execution_count": 40,
   "metadata": {},
   "outputs": [
    {
     "data": {
      "text/plain": [
       "{1: 20, 2: 21, 3: 11, 6: 9, 4: 6, 5: 0}"
      ]
     },
     "execution_count": 40,
     "metadata": {},
     "output_type": "execute_result"
    }
   ],
   "source": [
    "dijkstra(graph, 5)"
   ]
  },
  {
   "cell_type": "markdown",
   "metadata": {},
   "source": [
    "### Knapsack Problem (Combination Optimization)\n",
    "- NP-Complete\n",
    "- Brute Force Solution\n",
    "    - try all combination and pick the best\n",
    "    - complexity: O(2^n), n = # of objections -> prefer polynomial time\n",
    "- Pseudo-Polynomial Time O(nW)\n",
    "- Dynamic Programming\n",
    "    - Base Case: Smallest computation"
   ]
  },
  {
   "cell_type": "code",
   "execution_count": null,
   "metadata": {},
   "outputs": [],
   "source": []
  },
  {
   "cell_type": "code",
   "execution_count": null,
   "metadata": {},
   "outputs": [],
   "source": []
  },
  {
   "cell_type": "markdown",
   "metadata": {},
   "source": [
    "### Travelling Sales Program\n",
    "- NP-Hard: no known algorithm to solve in polynomial time\n",
    "- Pseudo-Polynomial Time\n",
    "- Exact Answer vs. Approximate Answer"
   ]
  },
  {
   "cell_type": "code",
   "execution_count": null,
   "metadata": {},
   "outputs": [],
   "source": []
  },
  {
   "cell_type": "code",
   "execution_count": null,
   "metadata": {},
   "outputs": [],
   "source": []
  },
  {
   "cell_type": "markdown",
   "metadata": {},
   "source": [
    "## 8. Technical Interview Tips\n",
    "\n",
    "**Steps to tackle with a problem**\n",
    "   - Clarifying the Question\n",
    "   - Generating Inputs & Outputs\n",
    "   - Generating Test Cases\n",
    "       - consider null and empty input cases to avoid crush\n",
    "   - Brainstroming\n",
    "   - Runtime Analysis\n",
    "   - Coding\n",
    "   - Debugging"
   ]
  },
  {
   "cell_type": "markdown",
   "metadata": {},
   "source": [
    "**Interview Questions**\n",
    "- [Find the number of islands](https://www.geeksforgeeks.org/find-number-of-islands/)\n",
    "    - Description: given a boolean 2D matrix, find the number of islands. A group of connected 1s forms an island. \n",
    "    - Analysis: this is a variation of the standard problem: “Counting the number of connected components in an undirected graph”.\n",
    "    - A connected component of an undirected graph is a subgraph in which every two vertices are connected to each other by a path(s), and which is connected to no other vertices outside the subgraph.\n"
   ]
  },
  {
   "cell_type": "code",
   "execution_count": 41,
   "metadata": {
    "scrolled": true
   },
   "outputs": [
    {
     "data": {
      "text/plain": [
       "[[1, 1, 0, 0, 0],\n",
       " [0, 1, 0, 0, 1],\n",
       " [1, 0, 0, 1, 1],\n",
       " [0, 0, 0, 0, 0],\n",
       " [1, 0, 1, 0, 1]]"
      ]
     },
     "execution_count": 41,
     "metadata": {},
     "output_type": "execute_result"
    }
   ],
   "source": [
    "M = [[1, 1, 0, 0, 0], [0, 1, 0, 0, 1], [1, 0, 0, 1, 1], [0, 0, 0, 0, 0], [1, 0, 1, 0, 1]]\n",
    "M"
   ]
  },
  {
   "cell_type": "code",
   "execution_count": 42,
   "metadata": {},
   "outputs": [],
   "source": [
    "def islands_counter(M):\n",
    "    if M == None or M == []:\n",
    "        return 0\n",
    "    island = []\n",
    "    visited = [[False]*len(M[0]) for _ in range(len(M))]\n",
    "\n",
    "    row = len(M)\n",
    "    col = len(M[0])\n",
    "    icounter = 0\n",
    "    for i in range(row):\n",
    "        for j in range(col):\n",
    "            if not visited[i][j] and M[i][j] == 1:\n",
    "                island = DFS(i, j, M, row, col, visited)\n",
    "                icounter += 1\n",
    "                print('Island {} consists of: {}'.format(icounter, island))\n",
    "    return icounter\n",
    "\n",
    "def is_part_of_island(i, j, M, row, col, visited):\n",
    "    return (0 <= i < row and 0 <= j < col and not visited[i][j] and M[i][j] == 1)\n",
    "\n",
    "def DFS(i, j, M, row, col, visited):\n",
    "    island = [(i, j)]\n",
    "    delta_idx = [(-1,-1), (-1, 0), (-1, 1), (0, -1), (0, 1), (1, -1), (1, 0), (1, 1)]\n",
    "    visited[i][j] = True\n",
    "    \n",
    "    for delta_row, delta_col in delta_idx:\n",
    "        if is_part_of_island(i+delta_row, j+delta_col, M, row, col, visited):\n",
    "            print('{} is part of island'.format((i+delta_row,j+delta_col)))\n",
    "            island.extend(DFS(i+delta_row, j+delta_col, M, row, col, visited))    \n",
    "    return island"
   ]
  },
  {
   "cell_type": "code",
   "execution_count": 43,
   "metadata": {
    "scrolled": false
   },
   "outputs": [
    {
     "name": "stdout",
     "output_type": "stream",
     "text": [
      "(0, 1) is part of island\n",
      "(1, 1) is part of island\n",
      "(2, 0) is part of island\n",
      "Island 1 consists of: [(0, 0), (0, 1), (1, 1), (2, 0)]\n",
      "(2, 3) is part of island\n",
      "(2, 4) is part of island\n",
      "Island 2 consists of: [(1, 4), (2, 3), (2, 4)]\n",
      "Island 3 consists of: [(4, 0)]\n",
      "Island 4 consists of: [(4, 2)]\n",
      "Island 5 consists of: [(4, 4)]\n"
     ]
    },
    {
     "data": {
      "text/plain": [
       "5"
      ]
     },
     "execution_count": 43,
     "metadata": {},
     "output_type": "execute_result"
    }
   ],
   "source": [
    "islands_counter(M)"
   ]
  },
  {
   "cell_type": "markdown",
   "metadata": {},
   "source": [
    "**Reflections**\n",
    "- first, clarify the problem: given a matrix of 1s and 0s, find out the connected 1s and group them as an island, here assumed that all 1s can be connected either horizontally, vertically or diagonally.\n",
    "- identify the input and output: input is the matrix which represents the location and connectivity of 1s and 0s.\n",
    "- exceptions such as empty or null matrix should be taken into account of.\n",
    "- brainstorming: iterate through all elements in the matrix by:\n",
    "    - starting first with one node (start case (0,0)), if it is 1, check all its 8 neighbors, if there are more 1s, marked them all as visited\n",
    "    - follow the path until there are no more 1s, increment the counter by 1\n",
    "    - check the next unvisited node, and repeat the steps above if it is 1\n",
    "    - stop until there are no more unvisited 1s\n",
    "- implementation:\n",
    "    - `islands_counter()` to accept the input, do the iteration and return the output\n",
    "    - `is_part_of_island()` return `True` if the index (coordinate) is within the right range, and node is unvisited with value equal to 1 \n",
    "    - `DFS()` to do the check of neighbors recursively, mark all 1s encountered as visited\n",
    "- print out which node location is a part of an island (status), and all the nodes one island is consisted of (affiliation)\n",
    "- optimization can be done using class, with # of rows/columns and visited status defined as attribute to avoid arguments passing around"
   ]
  },
  {
   "cell_type": "markdown",
   "metadata": {},
   "source": [
    "**Mock Interview** with [Pramp](https://www.pramp.com/#/)"
   ]
  },
  {
   "cell_type": "markdown",
   "metadata": {},
   "source": [
    "**More References**\n",
    "- Websites\n",
    "    - [Hackerrank](https://www.hackerrank.com/dashboard)\n",
    "    - [ProjectEuler](https://projecteuler.net/about)\n",
    "    - [Interview Tips @ InterviewCake](https://www.interviewcake.com)\n",
    "    - [Problem Solving with Algorithms and Data Structures using Python](http://interactivepython.org/runestone/static/pythonds/index.html)\n",
    "- Courses\n",
    "    - More on graph algorithms with [Intro to Algorithms](https://classroom.udacity.com/courses/cs215)\n",
    "- Books\n",
    "    - [Algorithms](https://algs4.cs.princeton.edu/home/)\n",
    "- Blog post:\n",
    "    - [5 essential phone screen questions](https://sites.google.com/site/steveyegge2/five-essential-phone-screen-questions), some takeaways:\n",
    "        1. **Coding.** The candidate has to write some simple code, with correct syntax, in C, C++, or Java. \n",
    "        \n",
    "        2. **OO design.** The candidate has to define basic OO concepts, and come up with classes to model a simple problem.\n",
    "            - **Terminology**: _class, object, instantiation, method, virtual method, class/static method, static/class initializer, constructor, destructor/finalizer, superclass or base class, subclass or derived class, inheritance, encapsulation, multiple inheritance, delegation/forwarding, composition/aggregation, abstract class, interface/protocol, method overriding, method overloading, polymorphism, is-a versus has-a relationships, method signatures, method visibility (public/private/other)_\n",
    "            - what classes to define,  what methods in each class, what the class constructors are, what data structures the class will have to maintain, whether any Design Patterns are applicable to this problem.\n",
    "        \n",
    "        3. **Scripting and regexes.** The candidate has to describe how to find the phone numbers in 50,000 HTML pages. \n",
    "            - why Unix is _Unix_\n",
    "            - `grep -l -R --perl-regexp \"\\b(\\(\\d{3}\\)\\s*|\\d{3}-)\\d{3}-\\d{4}\\b\" * > output.txt`\n",
    "                >grep is a command-line utility for searching plain-text data sets for lines that match a regular expression. Its name comes from the ed command g/re/p (globally search a regular expression and print), which has the same effect: doing a global search with the regular expression and printing all matching lines. Grep was originally developed for the Unix operating system, but later available for all Unix-like systems and some others such as OS-9.\n",
    "           \n",
    "                > Unix was originally meant to be a convenient platform for programmers developing software to be run on it and on other systems, rather than for non-programmers.\n",
    "        \n",
    "        4. **Data structures** The candidate has to demonstrate basic knowledge of the most common data structures.\n",
    "            - fundamentals of 'big-O' algorithmic complexity analysis:\n",
    "                - performance classes: constant-time, logarithmic, linear, polynomial, exponential, factorial\n",
    "                - find/insert/delete/updata an element in hashtable O(1), balanced-binary-tree O(logN), linked list O(N), sorted array O(logN)\n",
    "            - data structures: array, vectore, linked list, hashtable, tree(hierarchical), graph(arbitrary)\n",
    "            - question set 1: what you use them for, why you prefer them for those examples, the operations they typically provide, the big-O performance of those operations, how you traverse them to visit all the elements and what order, at least one typical implementation\n",
    "            - question set 2: how to implement a map with a tree or list, what is the worst-case insertion performance of a hashtable, and a binary tree, options to implement a priority queue\n",
    "        \n",
    "        5. **Bits and bytes.** The candidate has to answer simple questions about bits, bytes, and binary numbers.\n",
    "            - 2^5 = 32, 2^10 = 1024, 2^16 = 65536\n",
    "            - AND, OR, NOT, XOR in programming language\n",
    "            - difference between a bitweise-AND and a logical-AND\n",
    "            - probable sizes of the primitive data types of a standard 32-bit architecture\n",
    "            - signed and unsigned types, the range of representable values for that type, whether a specific language support signed vs. unsigned types\n",
    "            - how to test whether the high-order bit is set in a byte\n",
    "            - ..."
   ]
  },
  {
   "cell_type": "code",
   "execution_count": null,
   "metadata": {},
   "outputs": [],
   "source": []
  }
 ],
 "metadata": {
  "kernelspec": {
   "display_name": "Python 3",
   "language": "python",
   "name": "python3"
  },
  "language_info": {
   "codemirror_mode": {
    "name": "ipython",
    "version": 3
   },
   "file_extension": ".py",
   "mimetype": "text/x-python",
   "name": "python",
   "nbconvert_exporter": "python",
   "pygments_lexer": "ipython3",
   "version": "3.7.2"
  }
 },
 "nbformat": 4,
 "nbformat_minor": 2
}
