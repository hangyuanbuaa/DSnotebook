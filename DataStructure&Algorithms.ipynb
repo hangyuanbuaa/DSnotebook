{
 "cells": [
  {
   "cell_type": "markdown",
   "metadata": {},
   "source": [
    "# Data Structures & Algorithms in Python\n",
    "\n",
    "## Overview:\n",
    "- Introduction & Efficiency\n",
    "    - Syntax\n",
    "    - Efficiency\n",
    "    - Notation of Efficiency\n",
    "- List-Based Collections\n",
    "    - Lists/Arrays\n",
    "    - Linked Lists\n",
    "    - Stacks\n",
    "    - Queues\n",
    "- Searching & Sorting\n",
    "    - Binary Search\n",
    "    - Recursion\n",
    "    - Bubble Sort\n",
    "    - Merge Sort\n",
    "    - Quick Sort\n",
    "- Maps & Hashing\n",
    "    - Maps\n",
    "    - Hashing\n",
    "    - Collisions\n",
    "    - Hashing Conventions\n",
    "- Trees\n",
    "    - Trees\n",
    "    - Tree Traversal\n",
    "    - Binary Trees\n",
    "    - Binary Search Trees\n",
    "    - Heaps\n",
    "    - Self-Balancing Trees\n",
    "- Graphs\n",
    "    - Graphs\n",
    "    - Graph Properties\n",
    "    - Graph Representation\n",
    "    - Graph Traversal\n",
    "    - Graph Paths\n",
    "- Case Studies in Algorithms\n",
    "    - Shortest Path Problem\n",
    "    - Knapsack Problem\n",
    "    - Traveling Salesman Problem\n",
    "- Technical Interview Tips"
   ]
  },
  {
   "cell_type": "markdown",
   "metadata": {},
   "source": [
    "### Efficiency\n",
    "\n",
    "Notation: O(n)\n",
    "\n",
    "- [Time Complexity](https://en.wikipedia.org/wiki/Time_complexity#Table_of_common_time_complexities)\n",
    "> Time complexity is commonly estimated by counting the number of elementary operations performed by the algorithm, supposing that each elementary operation takes a fixed amount of time to perform.\n",
    "- Approximation: about how many computations must be performed for the data structure of input\n",
    "- Worst Case Scenario: upper bound\n",
    "- Space Efficiency"
   ]
  },
  {
   "cell_type": "markdown",
   "metadata": {},
   "source": [
    "- Big-O cheat sheet (http://bigocheatsheet.com)\n",
    "![title](img/BigOComplexityChart.png)\n",
    "\n",
    "![title](img/Efficiency_CommonDataStructureOperations.png)\n",
    "\n",
    "![title](img/Efficiency_ArraySortingAlgorithms.png)"
   ]
  },
  {
   "cell_type": "markdown",
   "metadata": {},
   "source": [
    "### Collections\n",
    "> Data Structure: extension of collections\n",
    "\n",
    "1. Lists\n",
    "([TimeComplexity](https://wiki.python.org/moin/TimeComplexity)): a list is internally represented as an array \n",
    " - Arrays: index - location\n",
    "        - inefficient by insertion: O(n), shift elements to make space\n",
    "        - Delete an element\n",
    "        \n",
    "![title](img/TimeComplexity_PythonList.png)        "
   ]
  },
  {
   "cell_type": "markdown",
   "metadata": {},
   "source": [
    "2. Linked List: ordered, no index\n",
    "    - memory address of the next element\n",
    "    - easy to add/delete element: change the pointer in next component\n",
    "    - doubly linked lists\n",
    "    - no such built-in data structure in Python"
   ]
  },
  {
   "cell_type": "code",
   "execution_count": 1,
   "metadata": {},
   "outputs": [],
   "source": [
    "# define through class\n",
    "class Element(object):\n",
    "    def __init__(self, value):\n",
    "        self.value = value\n",
    "        self.next = None"
   ]
  },
  {
   "cell_type": "code",
   "execution_count": 2,
   "metadata": {},
   "outputs": [],
   "source": [
    "class LinkedList(object):\n",
    "    def __init__(self, head=None):\n",
    "        self.head = head\n",
    "        \n",
    "    def append(self, new_element):\n",
    "        current = self.head\n",
    "        if self.head:\n",
    "            while current.next:\n",
    "                current = current.next\n",
    "            current.next = new_element\n",
    "        else:\n",
    "            self.head = new_element\n",
    "        \n",
    "    def get_position(self, position):\n",
    "        counter = 1\n",
    "        current = self.head\n",
    "        if position < 1:\n",
    "            return None\n",
    "        while current and counter <= position:\n",
    "            if counter == position:\n",
    "                return current\n",
    "            current = current.next\n",
    "            counter += 1\n",
    "        return None\n",
    "    \n",
    "    def insert(self, new_element, position):\n",
    "        counter = 1\n",
    "        current = self.head\n",
    "        if position > 1:\n",
    "            while current and counter < position:\n",
    "                if counter == position - 1:\n",
    "                    new_element.next = current.next\n",
    "                    current.next = new_element\n",
    "                current = current.next\n",
    "                counter += 1\n",
    "        elif position == 1:\n",
    "            new_element.next = self.head\n",
    "            self.head = new_element\n",
    "            \n",
    "    def delete(self, value):\n",
    "        current = self.head\n",
    "        previous = None\n",
    "        while current.value != value and current.next:\n",
    "            previous = current\n",
    "            current = current.next\n",
    "        if current.value == value:\n",
    "            if previous:\n",
    "                previous.next = current.next\n",
    "            else:\n",
    "                self.head = current.next"
   ]
  },
  {
   "cell_type": "code",
   "execution_count": 3,
   "metadata": {},
   "outputs": [
    {
     "name": "stdout",
     "output_type": "stream",
     "text": [
      "2\n"
     ]
    }
   ],
   "source": [
    "e1 = Element(1)\n",
    "e2 = Element(2)\n",
    "e3 = Element(3)\n",
    "\n",
    "LL = LinkedList(e1)\n",
    "LL.append(e2)\n",
    "LL.append(e3)\n",
    "\n",
    "print(LL.get_position(2).value)"
   ]
  },
  {
   "cell_type": "markdown",
   "metadata": {},
   "source": [
    "3. Stacks: put elements on top, with easy access to remove or look at the most recent element\n",
    "    - push(入栈): O(1)\n",
    "    - pop(出栈): O(1)\n",
    "    - L.I.F.O.: Last In, First Out\n",
    "    \n",
    "> stack functionality is already built into Python list:\n",
    "- pop()\n",
    "- append()"
   ]
  },
  {
   "cell_type": "code",
   "execution_count": 4,
   "metadata": {},
   "outputs": [],
   "source": [
    "class Element(object):\n",
    "    def __init__(self, value):\n",
    "        self.value = value\n",
    "        self.next = None\n",
    "        \n",
    "class LinkedList(object):\n",
    "    def __init__(self, head=None):\n",
    "        self.head = head\n",
    "    \n",
    "    def append(self, new_element):\n",
    "        current = self.head\n",
    "        if self.head:\n",
    "            while current.next:\n",
    "                current = current.next\n",
    "            current.next = new_element\n",
    "        else:\n",
    "            self.head = new_element\n",
    "    \n",
    "    def insert_first(self, new_element):\n",
    "        new_element.next = self.head\n",
    "        self.head = new_element\n",
    "        \n",
    "    def delete_first(self):\n",
    "        if self.head:\n",
    "            deleted_element = self.head\n",
    "            tmp = deleted_element.next\n",
    "            self.head = tmp\n",
    "            return deleted_element\n",
    "        else:\n",
    "            return None\n",
    "        \n",
    "class Stack(object):\n",
    "    def __init__(self, top=None):\n",
    "        self.ll = LinkedList(top)\n",
    "        \n",
    "    def push(self, new_element):\n",
    "        self.ll.insert_first(new_element)\n",
    "        \n",
    "    def pop(self):\n",
    "        return self.ll.delete_first()"
   ]
  },
  {
   "cell_type": "code",
   "execution_count": 5,
   "metadata": {},
   "outputs": [
    {
     "name": "stdout",
     "output_type": "stream",
     "text": [
      "3\n",
      "2\n",
      "1\n",
      "None\n"
     ]
    }
   ],
   "source": [
    "e1 = Element(1)\n",
    "e2 = Element(2)\n",
    "e3 = Element(3)\n",
    "\n",
    "stack = Stack(e1)\n",
    "stack.push(e2)\n",
    "stack.push(e3)\n",
    "print(stack.pop().value)\n",
    "print(stack.pop().value)\n",
    "print(stack.pop().value)\n",
    "print(stack.pop())"
   ]
  },
  {
   "cell_type": "markdown",
   "metadata": {},
   "source": [
    "4. Queues: first in first out structure\n",
    "    - Enqueue: add an element to the Tail\n",
    "    - Dequeue: remove the Head element\n",
    "    - Peek: look at the Head element\n",
    "    - **Deque**: double ended \n",
    "    - **Priority Queue**\n",
    "    \n",
    "    > it is possible to use a list as a queue in Python, however lists are not efficient. While appends and pops from the end of list are fast, doing inserts or pops from the beginning of a list is slow (all other elements must be shifted by one)"
   ]
  },
  {
   "cell_type": "code",
   "execution_count": 6,
   "metadata": {},
   "outputs": [],
   "source": [
    "from collections import deque\n",
    "queue = deque(['A', 'B', 'C'])\n",
    "queue.append('D')\n",
    "queue.append('E')"
   ]
  },
  {
   "cell_type": "code",
   "execution_count": 7,
   "metadata": {},
   "outputs": [
    {
     "data": {
      "text/plain": [
       "deque(['A', 'B', 'C', 'D', 'E'])"
      ]
     },
     "execution_count": 7,
     "metadata": {},
     "output_type": "execute_result"
    }
   ],
   "source": [
    "queue"
   ]
  },
  {
   "cell_type": "code",
   "execution_count": 8,
   "metadata": {},
   "outputs": [
    {
     "data": {
      "text/plain": [
       "'A'"
      ]
     },
     "execution_count": 8,
     "metadata": {},
     "output_type": "execute_result"
    }
   ],
   "source": [
    "queue.popleft()"
   ]
  },
  {
   "cell_type": "code",
   "execution_count": 9,
   "metadata": {},
   "outputs": [
    {
     "data": {
      "text/plain": [
       "deque(['B', 'C', 'D', 'E'])"
      ]
     },
     "execution_count": 9,
     "metadata": {},
     "output_type": "execute_result"
    }
   ],
   "source": [
    "queue"
   ]
  },
  {
   "cell_type": "code",
   "execution_count": 10,
   "metadata": {},
   "outputs": [],
   "source": [
    "# make a Queue class using a list\n",
    "class Queue:\n",
    "    def __init__(self, head=None):\n",
    "        self.storage = [head]\n",
    "    \n",
    "    def enqueue(self, new_element):\n",
    "        self.storage.append(new_element)\n",
    "    \n",
    "    def peek(self):\n",
    "        return self.storage[0]\n",
    "    \n",
    "    def dequeue(self):\n",
    "        return self.storage.pop(0)"
   ]
  },
  {
   "cell_type": "code",
   "execution_count": 11,
   "metadata": {},
   "outputs": [
    {
     "name": "stdout",
     "output_type": "stream",
     "text": [
      "1\n",
      "1\n"
     ]
    }
   ],
   "source": [
    "q = Queue(1)\n",
    "q.enqueue(2)\n",
    "q.enqueue(3)\n",
    "\n",
    "print(q.peek())\n",
    "print(q.dequeue())"
   ]
  },
  {
   "cell_type": "markdown",
   "metadata": {},
   "source": [
    "### Search & Sorting Algorithm\n",
    "\n",
    "1. Binary Search (二分法)\n",
    "    - start from one end: O(n)\n",
    "    - start from the middle: O(log(n))\n",
    "\n",
    "\n",
    "2. Recursion (递归)\n",
    "    - function that calls itself\n",
    "    - be careful with infinite recursion\n",
    "    - pseudocode:\n",
    "    ```\n",
    "    func recursive(input):\n",
    "        if input <= 0\n",
    "            return input\n",
    "        else\n",
    "            output = recursive(input - 1)\n",
    "            return output\n",
    "    ```\n",
    "        - step 1: call itself at some point\n",
    "        - step 2: base case -> exit condition\n",
    "        - step 3: alter the input or change variable every iteration\n",
    "\n",
    "\n",
    "3. Sorting (排序)\n",
    "    - naive approach\n",
    "    - inplace (原地排序): rearrange locally without copying to new data structure, low space complexity\n",
    "    - tradeoff: less space or less time"
   ]
  },
  {
   "cell_type": "markdown",
   "metadata": {},
   "source": [
    "- Binary Search"
   ]
  },
  {
   "cell_type": "code",
   "execution_count": 12,
   "metadata": {},
   "outputs": [],
   "source": [
    "def binary_search(listData, value):\n",
    "    low = 0\n",
    "    high = len(listData) - 1\n",
    "    while low <= high:\n",
    "        mid = int((low+high)/2)\n",
    "        if listData[mid] == value:\n",
    "            return mid\n",
    "        elif listData[mid] < value:\n",
    "            low = mid +1\n",
    "        else:\n",
    "            high = mid -1\n",
    "    return -1"
   ]
  },
  {
   "cell_type": "code",
   "execution_count": 13,
   "metadata": {},
   "outputs": [
    {
     "data": {
      "text/plain": [
       "8"
      ]
     },
     "execution_count": 13,
     "metadata": {},
     "output_type": "execute_result"
    }
   ],
   "source": [
    "test = [1, 10, 13, 21, 34, 44, 52, 68, 73, 94, 100]\n",
    "val = 73\n",
    "binary_search(test, val)"
   ]
  },
  {
   "cell_type": "markdown",
   "metadata": {},
   "source": [
    "- Recursion"
   ]
  },
  {
   "cell_type": "code",
   "execution_count": 14,
   "metadata": {},
   "outputs": [],
   "source": [
    "# Fibonacci Sequence\n",
    "def fib(position):\n",
    "    if position == 0 or position == 1:\n",
    "        return position\n",
    "    return fib(position - 1) + fib(position -2)"
   ]
  },
  {
   "cell_type": "code",
   "execution_count": 15,
   "metadata": {
    "scrolled": true
   },
   "outputs": [
    {
     "data": {
      "text/plain": [
       "55"
      ]
     },
     "execution_count": 15,
     "metadata": {},
     "output_type": "execute_result"
    }
   ],
   "source": [
    "fib(10) # 0, 1, 1, 2, 3, 5, 8, 13, 21, 34, 55"
   ]
  },
  {
   "cell_type": "code",
   "execution_count": 16,
   "metadata": {},
   "outputs": [],
   "source": [
    "# Factorial\n",
    "def factorial(n):\n",
    "    if n == 0 or n == 1:\n",
    "        return n\n",
    "    return n*factorial(n-1)"
   ]
  },
  {
   "cell_type": "code",
   "execution_count": 17,
   "metadata": {},
   "outputs": [
    {
     "data": {
      "text/plain": [
       "120"
      ]
     },
     "execution_count": 17,
     "metadata": {},
     "output_type": "execute_result"
    }
   ],
   "source": [
    "factorial(5) # 5! = 5*4*3*2*1 = 120"
   ]
  },
  {
   "cell_type": "markdown",
   "metadata": {},
   "source": [
    "> In practice if we were to use recursion to solve this problem we should use a hash table to store and fetch previously calculated results. This will increase the space needed but will drastically improve the runtime efficiency."
   ]
  },
  {
   "cell_type": "markdown",
   "metadata": {},
   "source": [
    "- Bubble Sort (naive approach): O(n\\*n) = O(n^2)\n",
    "    - Complexity:\n",
    "        | n = # of elements | # of iterations = (n-1) times; # of comparisons each iteration: (n-1) times | (n-1)\\*(n-1)\n",
    "    - Time:\n",
    "         - Worst Case: O(n^2) comparions, O(n^2) swaps\n",
    "         - Average Case: O(n^2) comparisons, O(n^2) swaps\n",
    "         - Best Case: O(n) comparisons, O(1) swaps\n",
    "    - Space: O(1) (inplace sorting, no need for extra data structures)"
   ]
  },
  {
   "cell_type": "code",
   "execution_count": 18,
   "metadata": {},
   "outputs": [],
   "source": [
    "def bubble_sort(listData):\n",
    "    issorted = False\n",
    "    while not issorted:\n",
    "        issorted = True\n",
    "        for i in range(len(listData)-1):\n",
    "            if listData[i] > listData[i+1]:\n",
    "                issorted = False\n",
    "                listData[i], listData[i+1] = listData[i+1], listData[i]"
   ]
  },
  {
   "cell_type": "code",
   "execution_count": 19,
   "metadata": {},
   "outputs": [
    {
     "data": {
      "text/plain": [
       "[3, 5, 8, 12, 13, 15, 21, 22, 23, 39]"
      ]
     },
     "execution_count": 19,
     "metadata": {},
     "output_type": "execute_result"
    }
   ],
   "source": [
    "test = [5, 12, 3, 13, 8, 23, 21, 39, 22, 15]\n",
    "bubble_sort(test)\n",
    "test"
   ]
  },
  {
   "cell_type": "markdown",
   "metadata": {},
   "source": [
    "> set a flag to indicate the status of list, if it is well sorted or not -> start the while loop -> assume the list well sorted at first (flag set to be True) -> compare two adjacent elements -> if they are found not in correct order, set flag back to False (the flag only remains true during the last round, when all elements are correctly sorted) [Q&A@stackoverflow](https://stackoverflow.com/questions/895371/bubble-sort-homework)"
   ]
  },
  {
   "cell_type": "markdown",
   "metadata": {},
   "source": [
    "- Merge Sort (归并排序)\n",
    "    - recursive\n",
    "    - Divide and Conquer (分治法)\n",
    "        - divide the unsorted list into multiple sublists\n",
    "        - combine multiple ordered arrays to make one larger ordered array\n",
    "    - Time complexity: O(nlog(n)) - sort an array of N items in time proportional to NlogN\n",
    "    - Auxiliary Space: O(n) - uses extra space proportional to N\n",
    "    - Reference: [MERGESORT in Java](https://algs4.cs.princeton.edu/22mergesort/)"
   ]
  },
  {
   "cell_type": "markdown",
   "metadata": {},
   "source": [
    "> **Top-down implementation**: recursively splits the list into sublists until sublist size is 1, then merges those sublists to produce a sorted list\n",
    "\n",
    "![title](img/mergesortTD-bars.png)"
   ]
  },
  {
   "cell_type": "code",
   "execution_count": 20,
   "metadata": {},
   "outputs": [],
   "source": [
    "def merge_sort(listData):\n",
    "    if len(listData) <= 1:\n",
    "        return listData\n",
    "    left = []\n",
    "    right = []\n",
    "    # divide\n",
    "    mid = int(len(listData)/2)\n",
    "    print('Before Divide: ', listData)\n",
    "    left = listData[:mid]\n",
    "    right = listData[mid:]\n",
    "\n",
    "    # merge        \n",
    "    left = merge_sort(left)\n",
    "    right = merge_sort(right)\n",
    "    print('Left: ', left)\n",
    "    print('Right: ', right)\n",
    "    print('After Merge: ', merge(left, right))\n",
    "    return merge(left, right)\n",
    "\n",
    "def merge(left, right):\n",
    "    result = []\n",
    "    while left and right:\n",
    "        if left[0] <= right[0]:\n",
    "            result.append(left[0])\n",
    "            left = left[1:]\n",
    "        else:\n",
    "            result.append(right[0])\n",
    "            right = right[1:]\n",
    "    \n",
    "    while left:\n",
    "        result.append(left[0])\n",
    "        left = left[1:]\n",
    "    while right:\n",
    "        result.append(right[0])\n",
    "        right = right[1:]\n",
    "    \n",
    "    return result"
   ]
  },
  {
   "cell_type": "code",
   "execution_count": 21,
   "metadata": {},
   "outputs": [
    {
     "name": "stdout",
     "output_type": "stream",
     "text": [
      "Before Divide:  [5, 12, 3, 13, 8, 23, 21, 39, 22, 15]\n",
      "Before Divide:  [5, 12, 3, 13, 8]\n",
      "Before Divide:  [5, 12]\n",
      "Left:  [5]\n",
      "Right:  [12]\n",
      "After Merge:  [5, 12]\n",
      "Before Divide:  [3, 13, 8]\n",
      "Before Divide:  [13, 8]\n",
      "Left:  [13]\n",
      "Right:  [8]\n",
      "After Merge:  [8, 13]\n",
      "Left:  [3]\n",
      "Right:  [8, 13]\n",
      "After Merge:  [3, 8, 13]\n",
      "Left:  [5, 12]\n",
      "Right:  [3, 8, 13]\n",
      "After Merge:  [3, 5, 8, 12, 13]\n",
      "Before Divide:  [23, 21, 39, 22, 15]\n",
      "Before Divide:  [23, 21]\n",
      "Left:  [23]\n",
      "Right:  [21]\n",
      "After Merge:  [21, 23]\n",
      "Before Divide:  [39, 22, 15]\n",
      "Before Divide:  [22, 15]\n",
      "Left:  [22]\n",
      "Right:  [15]\n",
      "After Merge:  [15, 22]\n",
      "Left:  [39]\n",
      "Right:  [15, 22]\n",
      "After Merge:  [15, 22, 39]\n",
      "Left:  [21, 23]\n",
      "Right:  [15, 22, 39]\n",
      "After Merge:  [15, 21, 22, 23, 39]\n",
      "Left:  [3, 5, 8, 12, 13]\n",
      "Right:  [15, 21, 22, 23, 39]\n",
      "After Merge:  [3, 5, 8, 12, 13, 15, 21, 22, 23, 39]\n"
     ]
    },
    {
     "data": {
      "text/plain": [
       "[3, 5, 8, 12, 13, 15, 21, 22, 23, 39]"
      ]
     },
     "execution_count": 21,
     "metadata": {},
     "output_type": "execute_result"
    }
   ],
   "source": [
    "test = [5, 12, 3, 13, 8, 23, 21, 39, 22, 15]\n",
    "test = merge_sort(test)\n",
    "test"
   ]
  },
  {
   "cell_type": "markdown",
   "metadata": {},
   "source": [
    "> **Bottom-up implementation**: treats the list as an array of n sublists of size 1, and iteratively merges sublists back and forth between two buffers"
   ]
  },
  {
   "cell_type": "code",
   "execution_count": 23,
   "metadata": {},
   "outputs": [],
   "source": [
    "def merge_sort(listData):\n",
    "    if not listData:\n",
    "        return listData\n",
    "    \n",
    "    sublists = [[x] for x in listData]\n",
    "    print('Original list: ', listData)\n",
    "    print('Splitted into: ', sublists)\n",
    "    print('Merging...')\n",
    "    i = 1\n",
    "    while len(sublists) > 1:\n",
    "        sublists = merge_lists(sublists)\n",
    "        print('After Merge #{}: {}'.format(i,sublists))\n",
    "        i += 1\n",
    "    return sublists[0]\n",
    "\n",
    "\n",
    "def merge_lists(sublists):\n",
    "    result = []\n",
    "    for i in range(0, len(sublists)//2):\n",
    "        result.append(merge(sublists[i*2], sublists[i*2+1]))\n",
    "    if len(sublists) % 2:\n",
    "        result.append(sublists[-1])\n",
    "    return result\n",
    "\n",
    "\n",
    "def merge(left, right):\n",
    "    result = []\n",
    "    while left and right:\n",
    "        if left[0] <= right[0]:\n",
    "            result.append(left[0])\n",
    "            left = left[1:]\n",
    "        else:\n",
    "            result.append(right[0])\n",
    "            right = right[1:]\n",
    "    \n",
    "    while left:\n",
    "        result.append(left[0])\n",
    "        left = left[1:]\n",
    "    while right:\n",
    "        result.append(right[0])\n",
    "        right = right[1:]\n",
    "    \n",
    "    return result        "
   ]
  },
  {
   "cell_type": "code",
   "execution_count": 24,
   "metadata": {},
   "outputs": [
    {
     "name": "stdout",
     "output_type": "stream",
     "text": [
      "Original list:  [5, 12, 3, 13, 20, 8, 23, 21, 39, 22, 15]\n",
      "Splitted into:  [[5], [12], [3], [13], [20], [8], [23], [21], [39], [22], [15]]\n",
      "Merging...\n",
      "After Merge #1: [[5, 12], [3, 13], [8, 20], [21, 23], [22, 39], [15]]\n",
      "After Merge #2: [[3, 5, 12, 13], [8, 20, 21, 23], [15, 22, 39]]\n",
      "After Merge #3: [[3, 5, 8, 12, 13, 20, 21, 23], [15, 22, 39]]\n",
      "After Merge #4: [[3, 5, 8, 12, 13, 15, 20, 21, 22, 23, 39]]\n"
     ]
    },
    {
     "data": {
      "text/plain": [
       "[3, 5, 8, 12, 13, 15, 20, 21, 22, 23, 39]"
      ]
     },
     "execution_count": 24,
     "metadata": {},
     "output_type": "execute_result"
    }
   ],
   "source": [
    "test = [5, 12, 3, 13, 20, 8, 23, 21, 39, 22, 15]\n",
    "merge_sort(test)"
   ]
  },
  {
   "cell_type": "markdown",
   "metadata": {},
   "source": [
    "- Quick Sort\n",
    "    - divide and conquer: first divides a large array into two smaller sub-arrays, then recursively sort both\n",
    "        - pick an element, called a _pivot_\n",
    "        - partitioning: reorder the array so that all elements with values less than the pivot come before it, the other after it, after this partitioning, the pivot is in its final position\n",
    "        - recursively apply the above steps to the sub-array of elements with smaller values and greater values separately\n",
    "    - inplace sort -> space: O(1)\n",
    "    - time complexity:\n",
    "        - worse case: O(n^2) -> when pivot is already in the right place\n",
    "        - average/best case: O(nlog(n)) -> pivot will move to middle every time\n",
    "    - configure the program to run parallel, select the median of the last a few elements instead of the last element\n",
    "    - [Analysis of QuickSort and Proof of Time Complexity](http://www.cs.swan.ac.uk/~csfm/Courses/CS_332/quicksort.pdf)\n",
    "    - example: \n",
    "    > The shaded element is the pivot. It is always chosen as the last element of the partition. However, always choosing the last element in the partition as the pivot in this way results in poor performance (O(n²)) on already sorted arrays, or arrays of identical elements. Since sub-arrays of sorted / identical elements crop up a lot towards the end of a sorting procedure on a large set, versions of the quicksort algorithm that choose the pivot as the middle element run much more quickly than the algorithm described in this diagram on large sets of numbers.\n",
    "    \n",
    "    ![title](img/Quicksort-diagram.png)\n",
    "    "
   ]
  },
  {
   "cell_type": "code",
   "execution_count": 25,
   "metadata": {},
   "outputs": [],
   "source": [
    "# Lomuto partition scheme\n",
    "def quick_sort(listData, low=0, high=-1):\n",
    "    if high == -1:\n",
    "        high = len(listData) - 1\n",
    "    \n",
    "    if low < high:\n",
    "        pivot_idx = partition(listData, low, high)\n",
    "        quick_sort(listData, low, pivot_idx-1)\n",
    "        quick_sort(listData, pivot_idx+1, high)\n",
    "    \n",
    "    if high - low == len(listData) - 1:\n",
    "        return listData\n",
    "    \n",
    "def partition(listData, low, high):\n",
    "    mid = (low+high)//2\n",
    "    if listData[mid] < listData[low]:\n",
    "        swap(listData[mid], listData[low])\n",
    "    if listData[high] < listData[low]:\n",
    "        swap(listData[high], listData[low])\n",
    "    if listData[mid] < listData[high]:\n",
    "        swap(listData[high], listData[mid])\n",
    "    pivot = listData[high]\n",
    "    idx = low\n",
    "    for i in range(low, high):\n",
    "        if listData[i] <= pivot:\n",
    "            listData[idx], listData[i] = listData[i], listData[idx]\n",
    "            print(listData)\n",
    "            idx += 1\n",
    "    listData[idx], listData[high] = pivot, listData[idx]\n",
    "    return idx\n",
    "\n",
    "def swap(a,b):\n",
    "    a, b = b, a\n",
    "# after move every element smaller than pivot by swapping the place-holder for pivot and those elements,\n",
    "# then swap the pivot with its place-holder, therefore the pivot is moved to its final position"
   ]
  },
  {
   "cell_type": "code",
   "execution_count": 26,
   "metadata": {},
   "outputs": [
    {
     "name": "stdout",
     "output_type": "stream",
     "text": [
      "[4, 21, 1, 3, 9, 20, 25, 6, 21, 14]\n",
      "[4, 1, 21, 3, 9, 20, 25, 6, 21, 14]\n",
      "[4, 1, 3, 21, 9, 20, 25, 6, 21, 14]\n",
      "[4, 1, 3, 9, 21, 20, 25, 6, 21, 14]\n",
      "[4, 1, 3, 9, 6, 20, 25, 21, 21, 14]\n",
      "[4, 1, 3, 9, 6, 14, 25, 21, 21, 20]\n",
      "[4, 1, 3, 9, 6, 14, 25, 21, 21, 20]\n",
      "[4, 1, 3, 9, 6, 14, 25, 21, 21, 20]\n",
      "[1, 4, 3, 6, 9, 14, 25, 21, 21, 20]\n",
      "[1, 3, 4, 6, 9, 14, 20, 21, 21, 25]\n",
      "[1, 3, 4, 6, 9, 14, 20, 21, 21, 25]\n",
      "[1, 3, 4, 6, 9, 14, 20, 21, 21, 25]\n"
     ]
    },
    {
     "data": {
      "text/plain": [
       "[1, 3, 4, 6, 9, 14, 20, 21, 21, 25]"
      ]
     },
     "execution_count": 26,
     "metadata": {},
     "output_type": "execute_result"
    }
   ],
   "source": [
    "test = [21, 4, 1, 3, 9, 20, 25, 6, 21, 14]\n",
    "quick_sort(test)"
   ]
  },
  {
   "cell_type": "markdown",
   "metadata": {},
   "source": [
    "### Maps & Hashing (映射 & 散列)\n",
    "- Map:\n",
    "    - key-value pairs\n",
    "    - map concept -> in Python: built-in data type > dictionary\n",
    "    - Sets: collection of things without order, don't allow repeated elements\n",
    "\n",
    "\n",
    "- Hashing: do look-ups in constant time \n",
    "    - list, set: do look-ups in linear time through every element\n",
    "    - stack, queue: most recent or oldest element instantly\n",
    "    - priority queue: element with highest priority\n",
    "    \n",
    "    - Hash Function: value -> hash value/hash code/hash/digest\n",
    "        - any function that can be used to map data of arbitrary size onto data of fixed size\n",
    "        - collisions: map several different keys to the same index \n",
    "            - domain of a hash function is larger than its range\n",
    "            - each slot of a hash table is associated with a set of records (bucket)\n",
    "            - hash value = bucket listing or bucket index\n",
    "        - load factor = # of entries / # of buckets (载荷因子)\n",
    "            - describe how full a hash table is\n",
    "            - use as an indicator for when to rehash: sparse or full\n",
    "            - greater than 1: guaranteed to have collisions\n",
    "            \n",
    "- Hash Maps:\n",
    "    - <key, value> -> Hash Function on Key -> Hash Value <k,v> in Hash Table\n",
    "    - string keys"
   ]
  },
  {
   "cell_type": "code",
   "execution_count": 27,
   "metadata": {},
   "outputs": [],
   "source": [
    "class HashTable(object):\n",
    "    def __init__(self):\n",
    "        self.table = [None]*10000\n",
    "    \n",
    "    def store(self, string):\n",
    "        idx = self.calculate_hash_value(string)\n",
    "        if self.table[idx]:\n",
    "            self.table[idx].append(string)\n",
    "        else:\n",
    "            self.table[idx] = [string]\n",
    "            \n",
    "    def lookup(self, string):\n",
    "        idx = self.calculate_hash_value(string)\n",
    "        if self.table[idx]:\n",
    "            return idx\n",
    "        else:\n",
    "            return -1\n",
    "        \n",
    "    def calculate_hash_value(self, string):\n",
    "        hash_value = ord(string[0]) * 100 + ord(string[1])\n",
    "        return hash_value"
   ]
  },
  {
   "cell_type": "code",
   "execution_count": 28,
   "metadata": {},
   "outputs": [
    {
     "name": "stdout",
     "output_type": "stream",
     "text": [
      "-1\n",
      "8469\n",
      "8469\n"
     ]
    }
   ],
   "source": [
    "hs = HashTable()\n",
    "\n",
    "print(hs.lookup('TEST'))\n",
    "hs.store('TEST')\n",
    "print(hs.lookup('TEST'))\n",
    "hs.store('TERM')\n",
    "print(hs.lookup('TERM'))"
   ]
  },
  {
   "cell_type": "markdown",
   "metadata": {},
   "source": [
    "### Trees\n",
    "- Basics:\n",
    "    - extension of a linked list\n",
    "    - root -> node -> branch\n",
    "        - completely connected\n",
    "        - no cycles\n",
    "        - terminology:\n",
    "            - level, parent-child relationship, ancestor-descendant, leaf/internal node, path, height, depth (inverse to height)\n",
    "            - root: level 1, height=n, depth=0\n",
    "            - leaf: level n+1, height=0, depth=n\n",
    "\n",
    "\n",
    "- Tree Traversal:\n",
    "    - DFS: depth first search > explore child nodes, which have priority\n",
    "        - Pre-Order: check off a node first before traversal\n",
    "        - In-Order: first check off the leaf then the parent\n",
    "        - Post-Order: first check off the leaf, if its parent has other leaves, check off them and then come back to check off the parent node\n",
    "    - BFS: breadth first search > explore every node on the same level we are currently on before visiting child nodes\n",
    "\n",
    "\n",
    "- Binary Trees: parent nodes have at most two children\n",
    "    - Search: O(n)\n",
    "    - Delete: O(n) -> the run time is linear\n",
    "    - Insert: log(# of nodes at this level) = rank of level \n",
    "\n",
    "\n",
    "- Binary Search Trees\n",
    "    - binary tree: parent node has most two children\n",
    "    - sorted: node.left < node < node.right\n",
    "    - search, insert, delete\n",
    "    - complications: \n",
    "        - unbalanced: distribution of the nodes is skewed > worst case O(n) for search, insert, delete\n",
    "        \n",
    "- Heaps (not necessary BST)\n",
    "    - root: maximum or minimum\n",
    "    - max heap\n",
    "    - min heap\n",
    "    - complete\n",
    "    - peek: O(1)\n",
    "    - search: \n",
    "        - worst: O(n) - linear time operation\n",
    "        - average: O(n/2) = O(n)\n",
    "    - insert: first stick the element to the next empty spot, then heapify by comparing the child with parent, swap if needed\n",
    "    - extract:\n",
    "        - worst case: O(log(n)) = height of the tree\n",
    "    - implementation: array (sorted, from left to right -> top-down)\n",
    "    \n",
    "- Self-Balancing Trees\n",
    "    - tries to minimize the number of levels it uses\n",
    "        - red-black tree (extension of BST)\n",
    "            - color property\n",
    "            - rule 2: existence of null leaf nodes (black)\n",
    "            - rule 3: if a node is red, both of its children must be black\n",
    "            - rule 4 (optional): root node is black\n",
    "            - rule 5: every node to its descendant null nodes must contain the same number of black nodes\n",
    "        - red-black tree + BST rules: insert red nodes only (change back to black if it is root node)\n",
    "    - balanced tree: nodes condensed to only a few levels\n",
    "    - unbalanced tree: nodes spread out among many levels\n",
    "        - most extreme type: linked list, where every node has only one child\n",
    "    "
   ]
  },
  {
   "cell_type": "code",
   "execution_count": 88,
   "metadata": {},
   "outputs": [],
   "source": [
    "class Node(object):\n",
    "    def __init__(self, value):\n",
    "        self.value = value\n",
    "        self.left = None\n",
    "        self.right = None\n",
    "        \n",
    "        \n",
    "class BinaryTree(object):\n",
    "    def __init__(self, root):\n",
    "        self.root = Node(root)\n",
    "        \n",
    "    def search(self, val):\n",
    "        return self.preorder_search(self.root, val)\n",
    "    \n",
    "    def print_tree(self, mode='pre_order'):\n",
    "        if mode == 'pre_order':\n",
    "            return self.preorder_print(self.root, [])\n",
    "        elif mode == 'in_order':\n",
    "            return self.inorder_print(self.root, [])\n",
    "        else:\n",
    "            return self.postorder_print(self.root, [])\n",
    "        \n",
    "    def preorder_search(self, start, val):\n",
    "        if start:\n",
    "            if start.value == val:\n",
    "                return True\n",
    "            else:\n",
    "                return self.preorder_search(start.left, val) or self.preorder_search(start.right, val)\n",
    "        return False\n",
    "    \n",
    "    def preorder_print(self, start, traversal=[]):\n",
    "        if start:\n",
    "            traversal.append(start.value)\n",
    "            traversal = self.preorder_print(start.left, traversal)\n",
    "            traversal = self.preorder_print(start.right, traversal)\n",
    "        return traversal\n",
    "    \n",
    "    def inorder_print(self, start, traversal=[]):\n",
    "        if start:\n",
    "            traversal = self.inorder_print(start.left, traversal)\n",
    "            traversal.append(start.value)\n",
    "            traversal = self.inorder_print(start.right, traversal)\n",
    "        return traversal\n",
    "    \n",
    "    def postorder_print(self, start, traversal=[]):\n",
    "        if start:\n",
    "            traversal = self.postorder_print(start.left, traversal)\n",
    "            traversal = self.postorder_print(start.right, traversal)\n",
    "            traversal.append(start.value)\n",
    "        return traversal"
   ]
  },
  {
   "cell_type": "code",
   "execution_count": 109,
   "metadata": {},
   "outputs": [
    {
     "name": "stdout",
     "output_type": "stream",
     "text": [
      "True\n",
      "[4, 5, 2, 3, 1]\n"
     ]
    }
   ],
   "source": [
    "tree = BinaryTree(1)\n",
    "tree.root.left = Node(2)\n",
    "tree.root.right = Node(3)\n",
    "tree.root.left.left = Node(4)\n",
    "tree.root.left.right = Node(5)\n",
    "\n",
    "print(tree.search(4))\n",
    "print(tree.print_tree(mode='post_order'))"
   ]
  },
  {
   "cell_type": "code",
   "execution_count": 137,
   "metadata": {},
   "outputs": [],
   "source": [
    "class BST(object):\n",
    "    def __init__(self, root):\n",
    "        self.root = Node(root)\n",
    "        \n",
    "    def insert(self, val):\n",
    "        self.insert_helper(self.root, val)\n",
    "        \n",
    "    def insert_helper(self, node, val):\n",
    "        if node.value < val:\n",
    "            if node.right:\n",
    "                self.insert_helper(node.right, val)\n",
    "            else:\n",
    "                node.right = Node(val)\n",
    "        else:\n",
    "            if node.left:\n",
    "                self.insert_helper(node.left, val)\n",
    "            else:\n",
    "                node.left = Node(val)\n",
    "            \n",
    "    def search(self, val):\n",
    "        return self.search_helper(self.root, val)\n",
    "        \n",
    "    def search_helper(self, node, val):\n",
    "        if node:\n",
    "            if node.value == val:\n",
    "                return True\n",
    "            elif node.value < val:\n",
    "                 return self.search_helper(node.right, val)\n",
    "            else:\n",
    "                 return self.search_helper(node.left, val)\n",
    "        return False\n",
    "    \n",
    "    def print_tree(self):\n",
    "        return self.preorder_print(self.root, [])\n",
    "    \n",
    "    def preorder_print(self, start, traversal=[]):\n",
    "        if start:\n",
    "            traversal.append(start.value)\n",
    "            traversal = self.preorder_print(start.left, traversal)\n",
    "            traversal = self.preorder_print(start.right, traversal)\n",
    "        return traversal\n",
    "        "
   ]
  },
  {
   "cell_type": "code",
   "execution_count": 138,
   "metadata": {},
   "outputs": [
    {
     "name": "stdout",
     "output_type": "stream",
     "text": [
      "[4, 2, 1, 3, 5, 6, 7]\n",
      "True\n"
     ]
    }
   ],
   "source": [
    "tree = BST(4)\n",
    "\n",
    "tree.insert(2)\n",
    "tree.insert(1)\n",
    "tree.insert(3)\n",
    "tree.insert(5)\n",
    "tree.insert(6)\n",
    "tree.insert(7)\n",
    "\n",
    "print(tree.print_tree())\n",
    "print(tree.search(3))"
   ]
  },
  {
   "cell_type": "markdown",
   "metadata": {},
   "source": [
    "### Graphs\n",
    "- [Wiki](https://en.wikipedia.org/wiki/Graph_(discrete_mathematics))\n",
    "- vertex (pl. vertices)\n",
    "- directions & cycles\n",
    "    - inbound/outbound edge: relationship applys one way or both\n",
    "    - undirected edges\n",
    "    - cycle -> infinite loops?! -> acylic\n",
    "    - DAG: Directed Acyclic Graph\n",
    "- connectivity -> which graph is stronger?\n",
    "    - disconnected\n",
    "    - weakly connected: \n",
    "    > A directed graph is weakly connected when only replacing all of the directed edges with undirected edges can cause it to be connected.\n",
    "    - connected: undirected graphs, there is some path between one vertex and every other vertex\n",
    "    - strongly connected: must have a path from every node and every other node\n",
    "- Graph Representations:\n",
    "    - OOP: vertex object, edge object\n",
    "    - Edge List: 2-D list\n",
    "    - Adjacency List: index - vertex ID, each space - list of nodes that vertex is adjacent to \n",
    "- Adjacency Matrices\n",
    "    - diagonal all zeros (only be one when the node start and end to itself)\n",
    "    - symmetric about the diagonal"
   ]
  },
  {
   "cell_type": "code",
   "execution_count": null,
   "metadata": {},
   "outputs": [],
   "source": []
  }
 ],
 "metadata": {
  "kernelspec": {
   "display_name": "Python 3",
   "language": "python",
   "name": "python3"
  },
  "language_info": {
   "codemirror_mode": {
    "name": "ipython",
    "version": 3
   },
   "file_extension": ".py",
   "mimetype": "text/x-python",
   "name": "python",
   "nbconvert_exporter": "python",
   "pygments_lexer": "ipython3",
   "version": "3.7.2"
  }
 },
 "nbformat": 4,
 "nbformat_minor": 2
}
