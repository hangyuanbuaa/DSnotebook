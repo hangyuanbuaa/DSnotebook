{
 "cells": [
  {
   "cell_type": "markdown",
   "metadata": {},
   "source": [
    "# Python for Data Analysis (Notes)\n",
    "\n",
    "## Overview\n",
    "- Chpt. 1: Preliminaries\n",
    "- Chpt. 2-3: Python Language Basics, Built-in Data Structures, Functions, Files\n",
    "- Chpt. 4: NumPy Basics (Vectorized Computation)\n",
    "- Chpt. 5: pandas\n",
    "- Chpt. 6: Data Loading, Storage, File Formats\n",
    "- Chpt. 7: Data Cleaning, Preparation\n",
    "- Chpt. 8: Data Wrangling\n",
    "- Chpt. 9: Data Visualization (Matplotlib, seaborn)\n",
    "- Chpt. 10: Data Aggregation, Group Operations\n",
    "- Chpt. 11: Time Series\n",
    "- Chpt. 12: Advanced pandas\n",
    "- Chpt. 13: Modeling Libraries (Patsy, statsmodels, scikit-learn)\n",
    "- Chpt. 14: Case Study\n",
    "- Appendix A.: Advanced NumPy"
   ]
  },
  {
   "cell_type": "markdown",
   "metadata": {},
   "source": [
    "## Chpt. 2: Python Language Basics\n",
    "- (p2) Python: **scripting language** -> can be used to quickly write small programs or scripts to automate other tasks\n",
    "- (p3) Python: challenging language for building highly concurrent, multithreaded applications (esp. apps with CPU-bound threads) \n",
    "    - reason: **global interpreter lock (GIL)**, a mechanism prevents the interpreter from executing more than one Python instruction at a time\n",
    "- (p5) pandas = _panel data_, python data analysis\n",
    "- (p6) Ipython & Jupyter: encourages an _execute-explore_ workflow\n",
    "- (p10) NOT update **conda** packages with **pip** -> environment problems\n",
    "- (p14) **Syntactic sugar**\n",
    "- (p23) object introspection with question mark ?\n",
    "- (p28) **magic commands**: command-line programs to be run within IPython\n",
    "- (p31) Everything is a _**Python object**_: each object has an associated _type_ and internal data \n",
    "- (p32,33) Assignment of a variable (bound variables) -> creating a **reference** -> _binding_: binding a name to an object\n",
    "- (p33) object _references_ have no type associated\n",
    "- (p34) **variables** are names for objects within a particular **namespace**, the type information is stored in the object itself.\n",
    "- (p34) check if an object is an instance of a particular type using `isinstance` function\n",
    "- (p35) Objects have **attributes** and **methods** -> accessed via `obj.attribute_name` or `getattr()`\n",
    "- (p35) **duck typing**: check if an object has certain methods or behavior\n",
    "- (p37) check if two references refer to the same object, use the `is` keyword or `is not`, `is` is not the same as `==` operator\n",
    "- (p37) **Binary operators**\n",
    "- (p39) **scalar types**: None, str(Unicode strings), bytes(raw ASCII bytes), float(double-precision), bool, int\n",
    "- (p39) floor division operator: //\n",
    "- (p38,40) Python strings and tuples are immutable\n",
    "- (p41) backslash character `\\` is an _escape character_, or preface the leading quote of the string with `r` (stands for _raw_)\n",
    "- (p41) string objects -> `format` method:  substitute formatted arguments into the string, thereby producing a new string, {:.2f}, {:d}, {:s}\n",
    "- (p42) Bytes and Unicode\n",
    "- (p43) **Boolean** values are combined with `and` and `or` keywords\n",
    "- (p44) **None**: null value type, common default value for function arguments, reserved keyword, a unique instance of `NoneType`\n",
    "- (p44,45) `datetime`, `date`, `time` type\n",
    "- (p49) ternary expression: `value = true-expr if condition else false-expr`\n",
    "\n"
   ]
  },
  {
   "cell_type": "code",
   "execution_count": null,
   "metadata": {},
   "outputs": [],
   "source": [
    "# verify if an object is iterable if it implemented the iterator protocol\n",
    "# which means it has a __iter__ 'magic method', alternative using `iter` function\n",
    "def isiterable(obj):\n",
    "    try:\n",
    "        iter(obj) \n",
    "        return True\n",
    "    except TypeError: # not iterable\n",
    "        return False\n",
    "\n",
    "# enable a function to accept any kind of sequence (list, tuple, ndarray)\n",
    "# or even an iterator \n",
    "if not isinstance(x, list) and isiterable(x):\n",
    "    x = list(x)"
   ]
  },
  {
   "cell_type": "code",
   "execution_count": 2,
   "metadata": {
    "scrolled": true
   },
   "outputs": [
    {
     "name": "stdout",
     "output_type": "stream",
     "text": [
      "29\n",
      "30\n",
      "2011-10-29\n",
      "20:30:21\n",
      "10/29/2011 20:30\n",
      "2009-10-31 00:00:00\n",
      "2011-10-29 20:00:00\n"
     ]
    }
   ],
   "source": [
    "from datetime import datetime, date, time\n",
    "\n",
    "dt = datetime(2011, 10, 29, 20, 30, 21)\n",
    "print(dt.day)\n",
    "print(dt.minute)\n",
    "# extract date and time objects by calling methods on a datetime instance\n",
    "print(dt.date())\n",
    "print(dt.time())\n",
    "# format a `datetime` as a string\n",
    "print(dt.strftime('%m/%d/%Y %H:%M'))\n",
    "# parse a string into `datetime` objects\n",
    "print(datetime.strptime('20091031', '%Y%m%d'))\n",
    "# before aggregating or grouping time series data\n",
    "print(dt.replace(minute=0, second=0))\n"
   ]
  },
  {
   "cell_type": "markdown",
   "metadata": {},
   "source": [
    "## Chpt. 3: Built-in Data Structures\n",
    "- **Tuple** (p52-54)\n",
    "    - convert any sequence or iterator to a tuple by invoking `tuple`: `tup = tuple('string')`\n",
    "    - once tuple is created, it's not possible to modify which object is stored in each slot\n",
    "    - if the object inside a tuple is mutable, the object can be modified in-place\n",
    "    - concatenate tuples using `+` to produce a longer tuple\n",
    "    - `(a, b)*n` create a longer tuple but with objects refered to the original one, not copies\n",
    "    - syntax `*rest`: used in function signatures to capture an arbitrarily long list of positional arguments\n",
    "    - use underscore `_` for unwanted variables: `a, b, *_ = vals`\n",
    "    - useful method: `count`\n",
    "    \n",
    "- **List** (p54-61)\n",
    "    - function `list()`: materialize an iterator or generator expression\n",
    "    - method: `append(obj)`, `insert(idx, obj)` (computationally expensive, check `collections.deque`), `pop(idx)`, `remove(obj)`\n",
    "    - check if a list contains a value using `in` keyword -> linear scan across list (slower than with _dict_, based on hash tables in constant time)\n",
    "    - concatenating & combining: `+`(expensive due to copies) or `extend([some_list])`\n",
    "    - sort: \n",
    "        - in-place with `sort(key=lambda...)`\n",
    "        - return a sorted copy with `sorted()`\n",
    "    - Binary search with built-in `bisect` module: `bisect.bisect` finds and returns the location, `bisect.insort` insert the element into the location\n",
    "    - `bisect` module functions should work on but do not check if the list is sorted, used with unsorted list may succeed without error but incorrect\n",
    "    - slicing: indexing operator `[]`, takes in `start:stop:step`, `seq[::-1]` works as reverse the sequence\n",
    "    - built-in sequence functions: `enumerate()`, `sorted`, `zip`, `reversed`\n",
    "    \n",
    "- **dict** (p61-65)\n",
    "    - hash map, or associative array\n",
    "    - same way to access, insert, set elements as list and tuple\n",
    "    - delete values using `del` keyword or `pop` method\n",
    "    - methods: \n",
    "        - `keys()`, `values()` return iterators of the dict's keys and values\n",
    "        - merge one dict into another using `update()` -> in-place changes\n",
    "    - create dict from sequences using dict comprehensions: `mapping = dict(zip(keys, values))`\n",
    "    - default values:\n",
    "        - `get`: `value = some_dict.get(key, default_value)`\n",
    "        - `set_default`\n",
    "        - `collections.default_dict`\n",
    "    - _values_ can be any Python object\n",
    "    - **hashability**\n",
    "        - _keys_ have to be immutable objects like scalar types (int, float, string) or tuples\n",
    "        - check if an object is hashable using `hash(obj)` function\n",
    "        - convert a list to tuple in order to use it as a key: `d[tuple([1, 2, 3])]`\n",
    "        \n",
    "- **Set** (p65-67)\n",
    "    - create a set: 1. `set` function, 2. _set literal_ with curly braces `{}`\n",
    "    - set operations: union, intersection, difference, symmetric difference (may use binary operator `|` for union, `&` for intersection)\n",
    "    - set elements should be immutable, list-like elements must be first converted into tuples\n",
    "    - check if a set is a subset or superset of another set using `set_a.issubset(set_b)`, `set_a.issuperset(set_b)`\n",
    "    \n",
    "- List, Set, and Dict Comprehensions\n",
    "    - `[expr for val in collection if condition]`\n",
    "    - `dict_comp = {key-expr: value-expr for value in collection if condition}`\n",
    "    - `set_comp = {expr for value in collection if condition}`"
   ]
  },
  {
   "cell_type": "code",
   "execution_count": 4,
   "metadata": {},
   "outputs": [
    {
     "name": "stdout",
     "output_type": "stream",
     "text": [
      "1 2\n",
      "[2, 4, 5, 3, 2]\n",
      "(1, 2, 2, 4, 5, 3, 2)\n",
      "3\n"
     ]
    }
   ],
   "source": [
    "vals = 1, 2, 2, 4, 5, 3, 2 \n",
    "a, b, *rest = vals\n",
    "print(a, b)\n",
    "print(rest)\n",
    "print(vals)\n",
    "print(vals.count(2))"
   ]
  },
  {
   "cell_type": "code",
   "execution_count": 5,
   "metadata": {},
   "outputs": [
    {
     "name": "stdout",
     "output_type": "stream",
     "text": [
      "range(0, 10)\n",
      "[0, 1, 2, 3, 4, 5, 6, 7, 8, 9]\n"
     ]
    }
   ],
   "source": [
    "gen = range(10)\n",
    "print(gen)\n",
    "print(list(gen))"
   ]
  },
  {
   "cell_type": "code",
   "execution_count": 8,
   "metadata": {
    "scrolled": true
   },
   "outputs": [
    {
     "name": "stdout",
     "output_type": "stream",
     "text": [
      "4 [1, 2, 2, 2, 3, 4, 7]\n",
      "None [1, 2, 2, 2, 3, 4, 6, 7]\n"
     ]
    }
   ],
   "source": [
    "import bisect\n",
    "c = [1, 2, 2, 2, 3, 4, 7]\n",
    "print(bisect.bisect(c, 2), c)\n",
    "print(bisect.insort(c, 6), c)"
   ]
  },
  {
   "cell_type": "code",
   "execution_count": 9,
   "metadata": {},
   "outputs": [
    {
     "data": {
      "text/plain": [
       "{'PEK': 0, 'SH': 1, 'GZ': 2, 'SZ': 3}"
      ]
     },
     "execution_count": 9,
     "metadata": {},
     "output_type": "execute_result"
    }
   ],
   "source": [
    "# use enumerate to compute a dict mapping the values (unique) of a sequence to their location\n",
    "some_list = ['PEK', 'SH', 'GZ', 'SZ']\n",
    "mapping = {}\n",
    "for i, v in enumerate(some_list):\n",
    "    mapping[v] = i\n",
    "mapping"
   ]
  },
  {
   "cell_type": "code",
   "execution_count": 11,
   "metadata": {},
   "outputs": [
    {
     "name": "stdout",
     "output_type": "stream",
     "text": [
      "('Nolan', 'Roger', 'Schilling') ('Ryan', 'Clemens', 'Curt')\n"
     ]
    }
   ],
   "source": [
    "# use zip to unzip a sequence, similar as converting a list of rows into  a list of columns\n",
    "pitchers = [('Nolan', 'Ryan'), ('Roger', 'Clemens'), ('Schilling', 'Curt')]\n",
    "first_names, last_names = zip(*pitchers)\n",
    "print(first_names, last_names)"
   ]
  },
  {
   "cell_type": "code",
   "execution_count": 13,
   "metadata": {},
   "outputs": [
    {
     "name": "stdout",
     "output_type": "stream",
     "text": [
      "{'a': ['apple', 'atom'], 'b': ['bat', 'bar', 'book']}\n"
     ]
    }
   ],
   "source": [
    "# dict: default values\n",
    "# categorize a list of words by their first letters\n",
    "words = ['apple', 'bat', 'bar', 'atom', 'book']\n",
    "by_letter = {}\n",
    "for word in words:\n",
    "    letter = word[0]\n",
    "    by_letter.setdefault(letter, []).append(word)\n",
    "print(by_letter)"
   ]
  },
  {
   "cell_type": "code",
   "execution_count": 15,
   "metadata": {},
   "outputs": [
    {
     "name": "stdout",
     "output_type": "stream",
     "text": [
      "defaultdict(<class 'list'>, {'a': ['apple', 'atom'], 'b': ['bat', 'bar', 'book']})\n"
     ]
    }
   ],
   "source": [
    "# use collections.defaultdict\n",
    "from collections import defaultdict\n",
    "by_letter = defaultdict(list)\n",
    "for word in words:\n",
    "    by_letter[word[0]].append(word)\n",
    "print(by_letter)"
   ]
  },
  {
   "cell_type": "markdown",
   "metadata": {},
   "source": [
    "## Chpt. 3: Functions and Files\n",
    "- (p70) **None** is returned automatically when there is no return statement \n",
    "- (p70) **keyword** arguments _must_ follow the **positional arguments** (if any)\n",
    "- (p70) **namespace**: variable scope\n",
    "- (p71) use too many `global` keyword -> maybe better to consider OOP\n",
    "- (p72) **functions are objects**, can be used as arguments to other functions -> example below for cleaning strings\n",
    "- (p73) anonymous/**lambda function** (never given an explicit \\_\\_name__ attribute) -> useful in cases where data transformation functions take functions as arguments\n",
    "- (p74) Currying: derive new functions from existing ones by _partial argument application_\n",
    "- (p75) iterator\n",
    "- (p75) generator: to construct a new iterable object, pause after each returned value until the next one is requested\n",
    "    - use `yield` keyword instead of `return`\n",
    "    - generator expression: list comprehension within parentheses instead of brackets\n",
    "        - can be used as function arguments, while list comprehension cannot\n",
    "- (p76) **itertools** module: `itertools.groupby(iterabel[], keyfunc)`\n",
    "- (p78) `try-except-else-finally` block:\n",
    "    - catch multiple exception types by writing a tuple of exception types: `except (TypeError, ValueError):`\n",
    "    - `finally`: always executes regardless of whether `try` block succeeds or not\n",
    "    - `else`: only executes when `try` block succeeds\n",
    "- (p79) use `%run script` in IPython by default print a full call stack trace (traceback)\n",
    "    - `%mode Plain` or `%mode Verbose`: control the amount of contex\n",
    "    - `%debug` or `%pdb%`: step into the stack after an error\n",
    "- (p80) EOL(end-of-line) markers\n",
    "- (p81,82) file method: `read([size])`, `readlines([size])`, `tell`, `seek(pos)`"
   ]
  },
  {
   "cell_type": "markdown",
   "metadata": {},
   "source": [
    "- compare two approaches of string cleaning"
   ]
  },
  {
   "cell_type": "code",
   "execution_count": 16,
   "metadata": {},
   "outputs": [],
   "source": [
    "# use regular expression to clean data\n",
    "import re\n",
    "def clean_strings(strings):\n",
    "    result = []\n",
    "    for value in strings:\n",
    "        value = value.strip() # stripping whitespaces\n",
    "        value = re.sub('[!#?]', '', value) # remove punctuation symbols\n",
    "        value = value.title() # standardizing on proper capitalization\n",
    "    return result"
   ]
  },
  {
   "cell_type": "code",
   "execution_count": 17,
   "metadata": {},
   "outputs": [],
   "source": [
    "def remove_punctuation(value):\n",
    "    return re.sub('[!#?]', '', value)\n",
    "\n",
    "clean_ops = [str.strip, remove_punctuation, str.title]\n",
    "\n",
    "def clean_strings(strings, ops):\n",
    "    result = []\n",
    "    for value in strings:\n",
    "        for function in ops:\n",
    "            value = function(value)\n",
    "        result.append(value)\n",
    "    return result"
   ]
  },
  {
   "cell_type": "markdown",
   "metadata": {},
   "source": [
    "> The second approach is a more functional pattern, which enables to easily modify how the strings are transformed at a very high level. The `clean_strings` function is therefore more reusable and generic."
   ]
  },
  {
   "cell_type": "code",
   "execution_count": 22,
   "metadata": {},
   "outputs": [
    {
     "name": "stdout",
     "output_type": "stream",
     "text": [
      "1 4 9 16 25 36 49 64 81 100 "
     ]
    }
   ],
   "source": [
    "# generator\n",
    "def squares(n=10):\n",
    "    for i in range(1, n+1):\n",
    "        yield i**2\n",
    "\n",
    "gen = squares()\n",
    "for x in gen:\n",
    "    print(x, end=' ')"
   ]
  },
  {
   "cell_type": "code",
   "execution_count": 23,
   "metadata": {},
   "outputs": [
    {
     "data": {
      "text/plain": [
       "328350"
      ]
     },
     "execution_count": 23,
     "metadata": {},
     "output_type": "execute_result"
    }
   ],
   "source": [
    "# generator expression\n",
    "gen = (x**2 for x in range(100))\n",
    "sum(gen)"
   ]
  },
  {
   "cell_type": "code",
   "execution_count": null,
   "metadata": {},
   "outputs": [],
   "source": [
    "# file > get an EOL-free list of lines\n",
    "with open(path) as f:\n",
    "    lines = [x.rstrip() for x in f]"
   ]
  },
  {
   "cell_type": "markdown",
   "metadata": {},
   "source": [
    "## Chpt. 4, Appendix A: NumPy\n",
    "\n",
    "### Skill Checklist\n",
    "\n",
    "#### Fundamental\n",
    "- array object: ndarray\n",
    "- arithmetic with NumPy arrays\n",
    "- indexing, slicing, boolean indexing, fancy indexing\n",
    "- transpose arrays, swap axes\n",
    "- universal functions (fast element-wise array function)\n",
    "- array-oriented programming\n",
    "- linear algebra\n",
    "- pseudorandom number generation\n",
    "\n",
    "#### Advanced\n",
    "- array manipulation\n",
    "- broadcasting\n",
    "- advanced ufunc usage\n",
    "- structured arrays\n",
    "- indirect sorts: argsort, lexsort\n"
   ]
  },
  {
   "cell_type": "code",
   "execution_count": null,
   "metadata": {},
   "outputs": [],
   "source": []
  },
  {
   "cell_type": "markdown",
   "metadata": {},
   "source": [
    "## Chpt. 5-8, 10-12: pandas \n",
    "\n",
    "### Skill Checklist\n",
    "\n",
    "#### Fundamental\n",
    "- DataFrame\n",
    "    - Create a pandas DataFrame\n",
    "    - Dealing with Rows and Columns\n",
    "    - Indexing, Selection, Filtreing\n",
    "    - Boolean Indexing\n",
    "    - Conversion Functions: map, apply, applymap\n",
    "    - Iterating over Rows and Columns\n",
    "    - Missing Data\n",
    "    - String Manipulation\n",
    "    - Working with Text Data\n",
    "    - Working with Dates and Times\n",
    "    - Merging, Joining and Concatenating\n",
    "    - Delete rows/columns\n",
    "    \n",
    "- Series\n",
    "    - Create a pandas Series\n",
    "    - Accessing elements\n",
    "\n",
    "\n",
    "#### Intermediate\n",
    "- JSON\n",
    "- Web Scraping (HTML, XML)\n",
    "- melt\n",
    "- pivot\n",
    "- Time Series\n",
    "\n",
    "#### Advanced\n",
    "- Categorical Data\n",
    "- Advanced GroupBy Use\n",
    "- Method Chaining"
   ]
  },
  {
   "cell_type": "code",
   "execution_count": null,
   "metadata": {},
   "outputs": [],
   "source": []
  }
 ],
 "metadata": {
  "kernelspec": {
   "display_name": "Python 3",
   "language": "python",
   "name": "python3"
  },
  "language_info": {
   "codemirror_mode": {
    "name": "ipython",
    "version": 3
   },
   "file_extension": ".py",
   "mimetype": "text/x-python",
   "name": "python",
   "nbconvert_exporter": "python",
   "pygments_lexer": "ipython3",
   "version": "3.7.2"
  }
 },
 "nbformat": 4,
 "nbformat_minor": 2
}
