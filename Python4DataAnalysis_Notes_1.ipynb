{
 "cells": [
  {
   "cell_type": "markdown",
   "metadata": {},
   "source": [
    "# Python for Data Analysis (Notes-1)\n",
    "\n",
    "## Overview\n",
    "- Chpt. 1: Preliminaries\n",
    "- Chpt. 2-3: Python Language Basics, Built-in Data Structures, Functions, Files\n",
    "- Chpt. 4: NumPy Basics (Vectorized Computation)\n",
    "- Chpt. 5: pandas\n",
    "- Chpt. 6: Data Loading, Storage, File Formats\n",
    "- Chpt. 7: Data Cleaning, Preparation\n",
    "- Chpt. 8: Data Wrangling\n",
    "- Chpt. 9: Data Visualization (Matplotlib, seaborn)\n",
    "- Chpt. 10: Data Aggregation, Group Operations\n",
    "- Chpt. 11: Time Series\n",
    "- Chpt. 12: Advanced pandas\n",
    "- Chpt. 13: Modeling Libraries (Patsy, statsmodels, scikit-learn)\n",
    "- Chpt. 14: Case Study\n",
    "- Appendix A.: Advanced NumPy"
   ]
  },
  {
   "cell_type": "code",
   "execution_count": 23,
   "metadata": {},
   "outputs": [],
   "source": [
    "import numpy as np\n",
    "import pandas as pd\n",
    "import matplotlib.pyplot as plt\n",
    "%matplotlib inline"
   ]
  },
  {
   "cell_type": "markdown",
   "metadata": {},
   "source": [
    "## Chpt. 2: Python Language Basics\n",
    "- (p2) Python: **scripting language** -> can be used to quickly write small programs or scripts to automate other tasks\n",
    "- (p3) Python: challenging language for building highly concurrent, multithreaded applications (esp. apps with CPU-bound threads) \n",
    "    - reason: **global interpreter lock (GIL)**, a mechanism prevents the interpreter from executing more than one Python instruction at a time\n",
    "- (p5) pandas = _panel data_, python data analysis\n",
    "- (p6) Ipython & Jupyter: encourages an _execute-explore_ workflow\n",
    "- (p10) NOT update **conda** packages with **pip** -> environment problems\n",
    "- (p14) **Syntactic sugar**\n",
    "- (p23) object introspection with question mark ?\n",
    "- (p28) **magic commands**: command-line programs to be run within IPython\n",
    "- (p31) Everything is a _**Python object**_: each object has an associated _type_ and internal data \n",
    "- (p32,33) Assignment of a variable (bound variables) -> creating a **reference** -> _binding_: binding a name to an object\n",
    "- (p33) object _references_ have no type associated\n",
    "- (p34) **variables** are names for objects within a particular **namespace**, the type information is stored in the object itself.\n",
    "- (p34) check if an object is an instance of a particular type using `isinstance` function\n",
    "- (p35) Objects have **attributes** and **methods** -> accessed via `obj.attribute_name` or `getattr()`\n",
    "- (p35) **duck typing**: check if an object has certain methods or behavior\n",
    "- (p37) check if two references refer to the same object, use the `is` keyword or `is not`, `is` is not the same as `==` operator\n",
    "- (p37) **Binary operators**\n",
    "- (p39) **scalar types**: None, str(Unicode strings), bytes(raw ASCII bytes), float(double-precision), bool, int\n",
    "- (p39) floor division operator: //\n",
    "- (p38,40) Python strings and tuples are immutable\n",
    "- (p41) backslash character `\\` is an _escape character_, or preface the leading quote of the string with `r` (stands for _raw_)\n",
    "- (p41) string objects -> `format` method:  substitute formatted arguments into the string, thereby producing a new string, {:.2f}, {:d}, {:s}\n",
    "- (p42) Bytes and Unicode\n",
    "- (p43) **Boolean** values are combined with `and` and `or` keywords\n",
    "- (p44) **None**: null value type, common default value for function arguments, reserved keyword, a unique instance of `NoneType`\n",
    "- (p44,45) `datetime`, `date`, `time` type\n",
    "- (p49) ternary expression: `value = true-expr if condition else false-expr`\n",
    "\n"
   ]
  },
  {
   "cell_type": "code",
   "execution_count": null,
   "metadata": {},
   "outputs": [],
   "source": [
    "# verify if an object is iterable if it implemented the iterator protocol\n",
    "# which means it has a __iter__ 'magic method', alternative using `iter` function\n",
    "def isiterable(obj):\n",
    "    try:\n",
    "        iter(obj) \n",
    "        return True\n",
    "    except TypeError: # not iterable\n",
    "        return False\n",
    "\n",
    "# enable a function to accept any kind of sequence (list, tuple, ndarray)\n",
    "# or even an iterator \n",
    "if not isinstance(x, list) and isiterable(x):\n",
    "    x = list(x)"
   ]
  },
  {
   "cell_type": "code",
   "execution_count": 2,
   "metadata": {
    "scrolled": true
   },
   "outputs": [
    {
     "name": "stdout",
     "output_type": "stream",
     "text": [
      "29\n",
      "30\n",
      "2011-10-29\n",
      "20:30:21\n",
      "10/29/2011 20:30\n",
      "2009-10-31 00:00:00\n",
      "2011-10-29 20:00:00\n"
     ]
    }
   ],
   "source": [
    "from datetime import datetime, date, time\n",
    "\n",
    "dt = datetime(2011, 10, 29, 20, 30, 21)\n",
    "print(dt.day)\n",
    "print(dt.minute)\n",
    "# extract date and time objects by calling methods on a datetime instance\n",
    "print(dt.date())\n",
    "print(dt.time())\n",
    "# format a `datetime` as a string\n",
    "print(dt.strftime('%m/%d/%Y %H:%M'))\n",
    "# parse a string into `datetime` objects\n",
    "print(datetime.strptime('20091031', '%Y%m%d'))\n",
    "# before aggregating or grouping time series data\n",
    "print(dt.replace(minute=0, second=0))\n"
   ]
  },
  {
   "cell_type": "markdown",
   "metadata": {},
   "source": [
    "## Chpt. 3: Built-in Data Structures\n",
    "- **Tuple** (p52-54)\n",
    "    - convert any sequence or iterator to a tuple by invoking `tuple`: `tup = tuple('string')`\n",
    "    - once tuple is created, it's not possible to modify which object is stored in each slot\n",
    "    - if the object inside a tuple is mutable, the object can be modified in-place\n",
    "    - concatenate tuples using `+` to produce a longer tuple\n",
    "    - `(a, b)*n` create a longer tuple but with objects refered to the original one, not copies\n",
    "    - syntax `*rest`: used in function signatures to capture an arbitrarily long list of positional arguments\n",
    "    - use underscore `_` for unwanted variables: `a, b, *_ = vals`\n",
    "    - useful method: `count`\n",
    "    \n",
    "- **List** (p54-61)\n",
    "    - function `list()`: materialize an iterator or generator expression\n",
    "    - method: `append(obj)`, `insert(idx, obj)` (computationally expensive, check `collections.deque`), `pop(idx)`, `remove(obj)`\n",
    "    - check if a list contains a value using `in` keyword -> linear scan across list (slower than with _dict_, based on hash tables in constant time)\n",
    "    - concatenating & combining: `+`(expensive due to copies) or `extend([some_list])`\n",
    "    - sorting: \n",
    "        - in-place with `sort(key=lambda...)`\n",
    "        - return a sorted copy with `sorted()`\n",
    "    - Binary search with built-in `bisect` module: `bisect.bisect` finds and returns the location, `bisect.insort` insert the element into the location\n",
    "    - `bisect` module functions should work on but do not check if the list is sorted, used with unsorted list may succeed without error but incorrect\n",
    "    - slicing: indexing operator `[]`, takes in `start:stop:step`, `seq[::-1]` works as reverse the sequence\n",
    "    - built-in sequence functions: `enumerate()`, `sorted`, `zip`, `reversed`\n",
    "    \n",
    "- **dict** (p61-65)\n",
    "    - hash map, or associative array\n",
    "    - same way to access, insert, set elements as list and tuple\n",
    "    - delete values using `del` keyword or `pop` method\n",
    "    - methods: \n",
    "        - `keys()`, `values()` return iterators of the dict's keys and values\n",
    "        - merge one dict into another using `update()` -> in-place changes\n",
    "    - create dict from sequences using dict comprehensions: `mapping = dict(zip(keys, values))`\n",
    "    - default values:\n",
    "        - `get`: `value = some_dict.get(key, default_value)`\n",
    "        - `set_default`\n",
    "        - `collections.default_dict`\n",
    "    - _values_ can be any Python object\n",
    "    - **hashability**\n",
    "        - _keys_ have to be immutable objects like scalar types (int, float, string) or tuples\n",
    "        - check if an object is hashable using `hash(obj)` function\n",
    "        - convert a list to tuple in order to use it as a key: `d[tuple([1, 2, 3])]`\n",
    "        \n",
    "- **Set** (p65-67)\n",
    "    - create a set: 1. `set` function, 2. _set literal_ with curly braces `{}`\n",
    "    - set operations: union, intersection, difference, symmetric difference (may use binary operator `|` for union, `&` for intersection)\n",
    "    - set elements should be immutable, list-like elements must be first converted into tuples\n",
    "    - check if a set is a subset or superset of another set using `set_a.issubset(set_b)`, `set_a.issuperset(set_b)`\n",
    "    \n",
    "- List, Set, and Dict Comprehensions\n",
    "    - `[expr for val in collection if condition]`\n",
    "    - `dict_comp = {key-expr: value-expr for value in collection if condition}`\n",
    "    - `set_comp = {expr for value in collection if condition}`"
   ]
  },
  {
   "cell_type": "code",
   "execution_count": 4,
   "metadata": {},
   "outputs": [
    {
     "name": "stdout",
     "output_type": "stream",
     "text": [
      "1 2\n",
      "[2, 4, 5, 3, 2]\n",
      "(1, 2, 2, 4, 5, 3, 2)\n",
      "3\n"
     ]
    }
   ],
   "source": [
    "vals = 1, 2, 2, 4, 5, 3, 2 \n",
    "a, b, *rest = vals\n",
    "print(a, b)\n",
    "print(rest)\n",
    "print(vals)\n",
    "print(vals.count(2))"
   ]
  },
  {
   "cell_type": "code",
   "execution_count": 5,
   "metadata": {},
   "outputs": [
    {
     "name": "stdout",
     "output_type": "stream",
     "text": [
      "range(0, 10)\n",
      "[0, 1, 2, 3, 4, 5, 6, 7, 8, 9]\n"
     ]
    }
   ],
   "source": [
    "gen = range(10)\n",
    "print(gen)\n",
    "print(list(gen))"
   ]
  },
  {
   "cell_type": "code",
   "execution_count": 8,
   "metadata": {
    "scrolled": true
   },
   "outputs": [
    {
     "name": "stdout",
     "output_type": "stream",
     "text": [
      "4 [1, 2, 2, 2, 3, 4, 7]\n",
      "None [1, 2, 2, 2, 3, 4, 6, 7]\n"
     ]
    }
   ],
   "source": [
    "import bisect\n",
    "c = [1, 2, 2, 2, 3, 4, 7]\n",
    "print(bisect.bisect(c, 2), c)\n",
    "print(bisect.insort(c, 6), c)"
   ]
  },
  {
   "cell_type": "code",
   "execution_count": 9,
   "metadata": {},
   "outputs": [
    {
     "data": {
      "text/plain": [
       "{'PEK': 0, 'SH': 1, 'GZ': 2, 'SZ': 3}"
      ]
     },
     "execution_count": 9,
     "metadata": {},
     "output_type": "execute_result"
    }
   ],
   "source": [
    "# use enumerate to compute a dict mapping the values (unique) of a sequence to their location\n",
    "some_list = ['PEK', 'SH', 'GZ', 'SZ']\n",
    "mapping = {}\n",
    "for i, v in enumerate(some_list):\n",
    "    mapping[v] = i\n",
    "mapping"
   ]
  },
  {
   "cell_type": "code",
   "execution_count": 11,
   "metadata": {},
   "outputs": [
    {
     "name": "stdout",
     "output_type": "stream",
     "text": [
      "('Nolan', 'Roger', 'Schilling') ('Ryan', 'Clemens', 'Curt')\n"
     ]
    }
   ],
   "source": [
    "# use zip to unzip a sequence, similar as converting a list of rows into  a list of columns\n",
    "pitchers = [('Nolan', 'Ryan'), ('Roger', 'Clemens'), ('Schilling', 'Curt')]\n",
    "first_names, last_names = zip(*pitchers)\n",
    "print(first_names, last_names)"
   ]
  },
  {
   "cell_type": "code",
   "execution_count": 13,
   "metadata": {},
   "outputs": [
    {
     "name": "stdout",
     "output_type": "stream",
     "text": [
      "{'a': ['apple', 'atom'], 'b': ['bat', 'bar', 'book']}\n"
     ]
    }
   ],
   "source": [
    "# dict: default values\n",
    "# categorize a list of words by their first letters\n",
    "words = ['apple', 'bat', 'bar', 'atom', 'book']\n",
    "by_letter = {}\n",
    "for word in words:\n",
    "    letter = word[0]\n",
    "    by_letter.setdefault(letter, []).append(word)\n",
    "print(by_letter)"
   ]
  },
  {
   "cell_type": "code",
   "execution_count": 15,
   "metadata": {},
   "outputs": [
    {
     "name": "stdout",
     "output_type": "stream",
     "text": [
      "defaultdict(<class 'list'>, {'a': ['apple', 'atom'], 'b': ['bat', 'bar', 'book']})\n"
     ]
    }
   ],
   "source": [
    "# use collections.defaultdict\n",
    "from collections import defaultdict\n",
    "by_letter = defaultdict(list)\n",
    "for word in words:\n",
    "    by_letter[word[0]].append(word)\n",
    "print(by_letter)"
   ]
  },
  {
   "cell_type": "markdown",
   "metadata": {},
   "source": [
    "## Chpt. 3: Functions and Files\n",
    "- (p70) **None** is returned automatically when there is no return statement \n",
    "- (p70) **keyword** arguments _must_ follow the **positional arguments** (if any)\n",
    "- (p70) **namespace**: variable scope\n",
    "- (p71) use too many `global` keyword -> maybe better to consider OOP\n",
    "- (p72) **functions are objects**, can be used as arguments to other functions -> example below for cleaning strings\n",
    "- (p73) anonymous/**lambda function** (never given an explicit \\_\\_name__ attribute) -> useful in cases where data transformation functions take functions as arguments\n",
    "- (p74) Currying: derive new functions from existing ones by _partial argument application_\n",
    "- (p75) iterator\n",
    "- (p75) generator: to construct a new iterable object, pause after each returned value until the next one is requested\n",
    "    - use `yield` keyword instead of `return`\n",
    "    - generator expression: list comprehension within parentheses instead of brackets\n",
    "        - can be used as function arguments, while list comprehension cannot\n",
    "- (p76) **itertools** module: `itertools.groupby(iterabel[], keyfunc)`\n",
    "- (p78) `try-except-else-finally` block:\n",
    "    - catch multiple exception types by writing a tuple of exception types: `except (TypeError, ValueError):`\n",
    "    - `finally`: always executes regardless of whether `try` block succeeds or not\n",
    "    - `else`: only executes when `try` block succeeds\n",
    "- (p79) use `%run script` in IPython by default print a full call stack trace (traceback)\n",
    "    - `%mode Plain` or `%mode Verbose`: control the amount of contex\n",
    "    - `%debug` or `%pdb%`: step into the stack after an error\n",
    "- (p80) EOL(end-of-line) markers\n",
    "- (p81,82) file method: `read([size])`, `readlines([size])`, `tell`, `seek(pos)`"
   ]
  },
  {
   "cell_type": "markdown",
   "metadata": {},
   "source": [
    "- compare two approaches of string cleaning"
   ]
  },
  {
   "cell_type": "code",
   "execution_count": 16,
   "metadata": {},
   "outputs": [],
   "source": [
    "# use regular expression to clean data\n",
    "import re\n",
    "def clean_strings(strings):\n",
    "    result = []\n",
    "    for value in strings:\n",
    "        value = value.strip() # stripping whitespaces\n",
    "        value = re.sub('[!#?]', '', value) # remove punctuation symbols\n",
    "        value = value.title() # standardizing on proper capitalization\n",
    "    return result"
   ]
  },
  {
   "cell_type": "code",
   "execution_count": 17,
   "metadata": {},
   "outputs": [],
   "source": [
    "def remove_punctuation(value):\n",
    "    return re.sub('[!#?]', '', value)\n",
    "\n",
    "clean_ops = [str.strip, remove_punctuation, str.title]\n",
    "\n",
    "def clean_strings(strings, ops):\n",
    "    result = []\n",
    "    for value in strings:\n",
    "        for function in ops:\n",
    "            value = function(value)\n",
    "        result.append(value)\n",
    "    return result"
   ]
  },
  {
   "cell_type": "markdown",
   "metadata": {},
   "source": [
    "> The second approach is a more functional pattern, which enables to easily modify how the strings are transformed at a very high level. The `clean_strings` function is therefore more reusable and generic."
   ]
  },
  {
   "cell_type": "code",
   "execution_count": 22,
   "metadata": {},
   "outputs": [
    {
     "name": "stdout",
     "output_type": "stream",
     "text": [
      "1 4 9 16 25 36 49 64 81 100 "
     ]
    }
   ],
   "source": [
    "# generator\n",
    "def squares(n=10):\n",
    "    for i in range(1, n+1):\n",
    "        yield i**2\n",
    "\n",
    "gen = squares()\n",
    "for x in gen:\n",
    "    print(x, end=' ')"
   ]
  },
  {
   "cell_type": "code",
   "execution_count": 23,
   "metadata": {},
   "outputs": [
    {
     "data": {
      "text/plain": [
       "328350"
      ]
     },
     "execution_count": 23,
     "metadata": {},
     "output_type": "execute_result"
    }
   ],
   "source": [
    "# generator expression\n",
    "gen = (x**2 for x in range(100))\n",
    "sum(gen)"
   ]
  },
  {
   "cell_type": "code",
   "execution_count": null,
   "metadata": {},
   "outputs": [],
   "source": [
    "# file > get an EOL-free list of lines\n",
    "with open(path) as f:\n",
    "    lines = [x.rstrip() for x in f]"
   ]
  },
  {
   "cell_type": "markdown",
   "metadata": {},
   "source": [
    "## Chpt. 4, Appendix A: NumPy\n",
    "why NumPy?\n",
    "- library of algorithms -> written in C -> operate on memory without type checking and other overhead.\n",
    "- use much less memory than built-in Python sequences\n",
    "\n",
    "... allows for:\n",
    "- fast vectorized array operations\n",
    "- common array algorithms: sorting, unique, set operations\n",
    "- descriptive statistics -> aggregating/summarizing data\n",
    "- data alignment, relational data manipulations (merging, joining)\n",
    "- conditional logic -> array expressions\n",
    "- group-wise data manipulations (aggregation, transformation, function application)\n",
    "\n",
    "#### Fundamentals\n",
    "- (p87) array object -> enables batch computations with similar syntax to scalar values on built-in Python objects\n",
    "- (p88) ndarray: generic multidimensional container for **homogeneous** data (same type)\n",
    "    - create: `np.array(data, dtype=np.int32)`\n",
    "    - `dtype` (metadata object: data about data)\n",
    "    - `ndim`, `shape`\n",
    "    - convert or cast an array from one dtype to another: `arr.astype(np.float64)` -> always creates a new array   \n",
    "- (p93) arithmetic operations b/t equal-size arrays -> **element-wise** (_**vectorization**_@p108: replacing explicit loops with array expression)\n",
    "- (p93) arithmetic operations w/ scalars -> propagate (broadcast?) the scalar argument to each element in the array\n",
    "- (p94) operations b/t differently sized arrays -> _broadcasting_ (see p460)\n",
    "- (p94) array slices are **views** on the original array (not copy), modifications will be reflected in the source array\n",
    "    - slicing a list will create a copy, with reference point to the original objects, but any modification done on the new list won't affect the old one\n",
    "- (p98) assign to a slice expression assigns to the whole selection\n",
    "- (p101) use `~` operator to invert a general condition -> boolean indexing -> always create a copy\n",
    "- (p101) boolean arithmetic operators: `&`, `|` -> _**Python keywords `and` and `or` do not work with boolean arrays!!**_\n",
    "- (p102) fancy indexing: indexing using integer arrays -> create a copy\n",
    "- (p103) transpose: `transpose` method or `T` attribute -> return a view\n",
    "    - color channel assumed by PyTorch and matplotlib are different `image = image.transpose((1, 2, 0))`\n",
    "- (p105) _**ufunc**_ (fast vectorized wrapper): performs element-wise operations on data in ndarrays \n",
    "    - _unary ufuncs_: `np.sqrt(arr)`, `np.exp(arr)`, `modf`, `isnan`, `isinf`, `isfinite`, `ceil`, `floor`, `sign`, `sin`, `arcsin`, `log2`\n",
    "    - _binary ufuncs_: `np.add(arr_1,arr_2)`, `np.maximum(arr_1, arr_2)`, `mod`, `power`, `divide`, `floor_divide`, `less_equal` -> return a single array as result\n",
    "    - ufuncs accept an optional `out` argument that allows for in-place operation: `np.sqrt(arr, arr)`\n",
    "- (p108) **vectorization**: replacing explicit loops with array expression\n",
    "- (p109) `np.where(cond, xarr, yarr)` -> vectorized version of tenary expression `x if condition else y` (not fast for large arrays)\n",
    "- (p111) statistics computation -> aggregations (_reductions_): 1. array instance method; 2. top-level NumPy function\n",
    "    - optional `axis` argument\n",
    "- (p113) boolean arrays methods: `sum()`, `any()`, `all()` -> works with non-boolean arrays (evaluate non-zero elements to True)\n",
    "- Sorting:\n",
    "    - (p113) `arr.sort()` -> sort in-place (along an axis if axis number is passed)\n",
    "    - (p114) `np.sort(arr)` -> returns a sorted copy of an array\n",
    "- (p116) Linear Algebra:\n",
    "    - multiplication: \n",
    "        - element-wise w/ `*`\n",
    "        - dot product w/ `x.dot(y)` or `np.dot(x,y)`\n",
    "        - `@` works as an infix operator that performs matrix multiplication\n",
    "- (p118-123) pseudorandom number generation: with deterministic behavior based on the seed of the random number generator\n",
    "    - `np.random.normal(size=(n,m)`: generate whole arrays of sample values\n",
    "        - `np.random.seed()`\n",
    "        - `rng = np.random.RandomState()`, `rng.randn(n)` -> create a random number generator isolated from other global states\n",
    "    - `random.normalvariate`: only samples one value at a time\n",
    "\n",
    "#### Advanced\n",
    "- (p449) ndarray Object Internals: strided view\n",
    "    - a _pointer to data_\n",
    "    - _data type_\n",
    "    - a tuple indicating _shape_\n",
    "    - a tuple of strides\n",
    "    \n",
    "- (p451) advanced array manipulation\n",
    "    - _reshaping_: without copying the data, passing a tuple as argument\n",
    "    - _flattening_ or _raveling_: opposite operation of `reshape`\n",
    "        - `ravel`: does not produce a copy if the values were contiguous in the original array\n",
    "        - `flatten`: always returns a copy of the data\n",
    "    - row(C) major order: items in each row/column of array are stored in adjacent memory location, traverse higher dimension first\n",
    "    - column(Fortran) major orde: traverse higher dimension last\n",
    "    - concatenate: `np.concatenate([arr1,arr2])` -> `np.vstack()`, `np.hstack()`\n",
    "    - split: `arr1, arr2 = np.split(arr, [1,3])`\n",
    "    \n",
    "- (p460) Broadcasting\n",
    "> **Broadcasting Rule**: two arrays are compatible for broadcasting if for each trailing dimension (i.e., starting from the end) the axis lengths match or if either of the lengths is 1. Broadcasting is then performed over the missing or length 1 dimensions.\n",
    "- add a new axis with length 1\n",
    "    - use `reshape`\n",
    "    - insert new axes by indexing: `np.newaxis` attribute along with full slices to insert the new axis\n",
    "\n",
    "- (p466) advanced ufunc usage\n",
    "    - `reduce`: aggregate the array optionally along an axis\n",
    "        - `np.add.reduce(arr)` equivalent to `arr.sum()`\n",
    "        - `np.logical_and.reduce(arr[:,:-1] < arr[:,1:], axis=1)` equivalent to `all`\n",
    "    - `accumulate`\n",
    "    - `outer`: pairwise cross-product between two arrays `np.multiply.outer(arr1, arr2)`\n",
    "    - `reduceat`: local reduce or array groupby operation in whice slices (defined through bin edges) of the array are aggregated together \n",
    "\n",
    "- structured arrays\n",
    "- indirect sorts: argsort, lexsort"
   ]
  },
  {
   "cell_type": "markdown",
   "metadata": {},
   "source": [
    "### Basics"
   ]
  },
  {
   "cell_type": "code",
   "execution_count": 5,
   "metadata": {},
   "outputs": [
    {
     "data": {
      "text/plain": [
       "(array([1, 2, 3]), array([1, 2, 3]))"
      ]
     },
     "execution_count": 5,
     "metadata": {},
     "output_type": "execute_result"
    }
   ],
   "source": [
    "arr = np.array([[[1,2,3], [4,5,6]], [[7,8,9], [10,11,12]]])\n",
    "# views\n",
    "arr[0][0], arr[0,0]"
   ]
  },
  {
   "cell_type": "code",
   "execution_count": 9,
   "metadata": {},
   "outputs": [
    {
     "data": {
      "text/plain": [
       "array([[ 7,  8,  9],\n",
       "       [10, 11, 12]])"
      ]
     },
     "execution_count": 9,
     "metadata": {},
     "output_type": "execute_result"
    }
   ],
   "source": [
    "# to make a copy\n",
    "sub_arr = arr[1,:].copy()\n",
    "sub_arr"
   ]
  },
  {
   "cell_type": "code",
   "execution_count": 27,
   "metadata": {},
   "outputs": [
    {
     "name": "stdout",
     "output_type": "stream",
     "text": [
      "[[ 3.06555716  0.43380421 -2.98535335]\n",
      " [ 0.43380421  3.26877515 -1.0183172 ]\n",
      " [-2.98535335 -1.0183172   4.73695508]]\n",
      "[[ 2.          2.         -0.36152278]\n",
      " [-0.0318457  -1.02423957 -0.05443093]\n",
      " [ 2.          2.         -1.36237696]\n",
      " [ 2.         -0.72423408 -0.7038716 ]\n",
      " [ 2.         -0.4004668  -1.09243942]\n",
      " [-0.28723637  2.         -1.02876798]]\n"
     ]
    }
   ],
   "source": [
    "# matrix computation w/ transpose\n",
    "arr = np.random.randn(6,3)\n",
    "print(np.dot(arr.T, arr))\n",
    "print(np.where(arr>0, 2, arr))"
   ]
  },
  {
   "cell_type": "code",
   "execution_count": 22,
   "metadata": {
    "scrolled": true
   },
   "outputs": [
    {
     "name": "stdout",
     "output_type": "stream",
     "text": [
      "[ 0  1  2  3  4  5  6  7  8  9 10 11 12 13 14 15]\n",
      "reshaped array:\n",
      "[[[ 0  1  2  3]\n",
      "  [ 4  5  6  7]]\n",
      "\n",
      " [[ 8  9 10 11]\n",
      "  [12 13 14 15]]]\n",
      "transposed array (1,0,2):\n",
      "[[[ 0  1  2  3]\n",
      "  [ 8  9 10 11]]\n",
      "\n",
      " [[ 4  5  6  7]\n",
      "  [12 13 14 15]]]\n"
     ]
    }
   ],
   "source": [
    "arr = np.arange(16)\n",
    "print(arr)\n",
    "arr = arr.reshape((2, 2, 4))\n",
    "print('reshaped array:')\n",
    "print(arr)\n",
    "print('transposed array (1,0,2):')\n",
    "print(arr.transpose((1, 0, 2)))\n",
    "#print('transposed array (2,1,0):')\n",
    "#print(arr.transpose((2, 1, 0)))"
   ]
  },
  {
   "cell_type": "code",
   "execution_count": 66,
   "metadata": {
    "scrolled": true
   },
   "outputs": [
    {
     "data": {
      "image/png": "[encoded data removed]",
      "text/plain": [
       "<Figure size 432x288 with 2 Axes>"
      ]
     },
     "metadata": {
      "needs_background": "light"
     },
     "output_type": "display_data"
    }
   ],
   "source": [
    "# visualzation: evaluate functions across a regular grid of values\n",
    "points = np.arange(-5, 5, 0.01)\n",
    "xs, ys = np.meshgrid(points, points)\n",
    "z = np.sqrt(xs**2+ys**2)\n",
    "plt.imshow(z)\n",
    "plt.colorbar()\n",
    "plt.title(\"Image plot of $\\sqrt{x^2+y^2}$ for a grid of values\");"
   ]
  },
  {
   "cell_type": "markdown",
   "metadata": {},
   "source": [
    "### Linear Algebra"
   ]
  },
  {
   "cell_type": "code",
   "execution_count": 57,
   "metadata": {
    "scrolled": true
   },
   "outputs": [
    {
     "data": {
      "text/plain": [
       "(array([[-0.53, -0.8 ,  1.08,  1.13, -0.93],\n",
       "        [ 0.03, -1.9 ,  0.02, -1.01,  0.12],\n",
       "        [-0.71, -2.19,  0.01, -0.84, -0.77],\n",
       "        [ 0.32, -0.38, -0.88,  0.17,  0.27],\n",
       "        [-0.76,  0.08,  0.97,  0.55, -0.75]]),\n",
       " array([[ 1.47,  1.74, -1.6 , -0.39,  1.7 ],\n",
       "        [ 1.74,  9.16, -0.52,  2.83,  2.04],\n",
       "        [-1.6 , -0.52,  2.87,  1.56, -1.98],\n",
       "        [-0.39,  2.83,  1.56,  3.33, -0.9 ],\n",
       "        [ 1.7 ,  2.04, -1.98, -0.9 ,  2.12]]),\n",
       " array([[ 45.04,   5.19,   1.45, -11.92, -44.89],\n",
       "        [  5.19,   1.03,  -0.08,  -1.86,  -6.03],\n",
       "        [  1.45,  -0.08,   1.38,  -0.4 ,   0.05],\n",
       "        [-11.92,  -1.86,  -0.4 ,   4.1 ,  12.73],\n",
       "        [-44.89,  -6.03,   0.05,  12.73,  47.79]]))"
      ]
     },
     "execution_count": 57,
     "metadata": {},
     "output_type": "execute_result"
    }
   ],
   "source": [
    "# Linear Algebra\n",
    "from numpy.linalg import inv, qr, det, eig, svd, solve, lstsq\n",
    "# Context manager for setting print options\n",
    "np.set_printoptions(precision=2, suppress=True)\n",
    "\n",
    "X = np.random.randn(5, 5)\n",
    "mat = X.T.dot(X)\n",
    "X, mat, inv(mat)"
   ]
  },
  {
   "cell_type": "code",
   "execution_count": 58,
   "metadata": {},
   "outputs": [
    {
     "data": {
      "text/plain": [
       "array([[ 1.,  0., -0.,  0., -0.],\n",
       "       [-0.,  1.,  0., -0.,  0.],\n",
       "       [-0., -0.,  1.,  0.,  0.],\n",
       "       [ 0., -0., -0.,  1.,  0.],\n",
       "       [-0.,  0.,  0., -0.,  1.]])"
      ]
     },
     "execution_count": 58,
     "metadata": {},
     "output_type": "execute_result"
    }
   ],
   "source": [
    "mat.dot(inv(mat))"
   ]
  },
  {
   "cell_type": "code",
   "execution_count": 59,
   "metadata": {},
   "outputs": [
    {
     "data": {
      "text/plain": [
       "(array([[-0.45,  0.16, -0.55, -0.15, -0.67],\n",
       "        [-0.53, -0.76,  0.24,  0.28, -0.09],\n",
       "        [ 0.49, -0.36, -0.63,  0.48,  0.  ],\n",
       "        [ 0.12, -0.48, -0.25, -0.81,  0.19],\n",
       "        [-0.52,  0.19, -0.42,  0.11,  0.71]]),\n",
       " array([[-3.28, -6.62,  3.6 ,  0.29, -4.01],\n",
       "        [ 0.  , -7.45, -2.03, -4.55,  0.28],\n",
       "        [ 0.  ,  0.  , -0.62, -0.55,  0.14],\n",
       "        [ 0.  ,  0.  ,  0.  , -1.18,  0.32],\n",
       "        [ 0.  ,  0.  ,  0.  ,  0.  ,  0.01]]))"
      ]
     },
     "execution_count": 59,
     "metadata": {},
     "output_type": "execute_result"
    }
   ],
   "source": [
    "q, r = qr(mat)\n",
    "q, r"
   ]
  },
  {
   "cell_type": "code",
   "execution_count": 60,
   "metadata": {
    "scrolled": true
   },
   "outputs": [
    {
     "data": {
      "text/plain": [
       "18.949092742094326"
      ]
     },
     "execution_count": 60,
     "metadata": {},
     "output_type": "execute_result"
    }
   ],
   "source": [
    "np.trace(mat)"
   ]
  },
  {
   "cell_type": "code",
   "execution_count": 65,
   "metadata": {
    "scrolled": true
   },
   "outputs": [
    {
     "data": {
      "text/plain": [
       "(array([11.03,  6.6 ,  0.92,  0.01,  0.38]),\n",
       " array([[ 0.21, -0.34, -0.28, -0.68,  0.54],\n",
       "        [ 0.9 ,  0.11,  0.35, -0.09, -0.21],\n",
       "        [-0.11,  0.6 ,  0.46, -0.01,  0.64],\n",
       "        [ 0.27,  0.55, -0.76,  0.19,  0.08],\n",
       "        [ 0.24, -0.45, -0.02,  0.7 ,  0.49]]))"
      ]
     },
     "execution_count": 65,
     "metadata": {},
     "output_type": "execute_result"
    }
   ],
   "source": [
    "lambda_, x = eig(mat)\n",
    "lambda_, x"
   ]
  },
  {
   "cell_type": "markdown",
   "metadata": {},
   "source": [
    "### Pseudorandom Number Generation"
   ]
  },
  {
   "cell_type": "code",
   "execution_count": 99,
   "metadata": {},
   "outputs": [
    {
     "data": {
      "text/plain": [
       "<matplotlib.lines.Line2D at 0x127177198>"
      ]
     },
     "execution_count": 99,
     "metadata": {},
     "output_type": "execute_result"
    },
    {
     "data": {
      "image/png": "[encoded data removed]",
      "text/plain": [
       "<Figure size 432x288 with 1 Axes>"
      ]
     },
     "metadata": {
      "needs_background": "light"
     },
     "output_type": "display_data"
    }
   ],
   "source": [
    "# random walk\n",
    "nsteps = 1000\n",
    "draws = np.random.randint(0, 2, size=nsteps)\n",
    "steps = np.where(draws>0, 1, -1)\n",
    "walk = steps.cumsum()\n",
    "fig = plt.figure()\n",
    "ax = fig.add_subplot(1,1,1)\n",
    "ax.plot(walk[:100]);\n",
    "# first crossing time: the step at which the random walk reaches a particular value\n",
    "idx = (np.abs(walk) >= 3).argmax()\n",
    "ax.axhline(y=3, color='b', ls=':')\n",
    "ax.axhline(y=-3, color='b', ls=':')\n",
    "ax.axvline(x=idx, color='r')"
   ]
  },
  {
   "cell_type": "markdown",
   "metadata": {},
   "source": [
    "### Advanced Array Manipulation"
   ]
  },
  {
   "cell_type": "code",
   "execution_count": 146,
   "metadata": {},
   "outputs": [
    {
     "data": {
      "text/plain": [
       "array([[ 0,  1],\n",
       "       [ 2,  3],\n",
       "       [ 4,  5],\n",
       "       [ 6,  7],\n",
       "       [ 8,  9],\n",
       "       [10, 11],\n",
       "       [12, 13],\n",
       "       [14, 15]])"
      ]
     },
     "execution_count": 146,
     "metadata": {},
     "output_type": "execute_result"
    }
   ],
   "source": [
    "arr = np.arange(16)\n",
    "arr.reshape((8, -1))"
   ]
  },
  {
   "cell_type": "code",
   "execution_count": 133,
   "metadata": {},
   "outputs": [
    {
     "data": {
      "text/plain": [
       "array([ 0,  1,  2,  3,  4,  5,  6,  7,  8,  9, 10, 11, 12, 13, 14, 15])"
      ]
     },
     "execution_count": 133,
     "metadata": {},
     "output_type": "execute_result"
    }
   ],
   "source": [
    "arr.ravel('F')"
   ]
  },
  {
   "cell_type": "code",
   "execution_count": 157,
   "metadata": {},
   "outputs": [],
   "source": [
    "arr1, arr2, arr3, arr4 = np.split(arr, [4, 8, 12])"
   ]
  },
  {
   "cell_type": "code",
   "execution_count": 141,
   "metadata": {},
   "outputs": [
    {
     "data": {
      "text/plain": [
       "array([0, 1, 2, 3, 4, 5, 6, 7])"
      ]
     },
     "execution_count": 141,
     "metadata": {},
     "output_type": "execute_result"
    }
   ],
   "source": [
    "np.concatenate([arr1, arr2], axis=0)"
   ]
  },
  {
   "cell_type": "code",
   "execution_count": 158,
   "metadata": {},
   "outputs": [
    {
     "data": {
      "text/plain": [
       "(array([0, 1, 2, 3]),\n",
       " array([4, 5, 6, 7]),\n",
       " array([ 8,  9, 10, 11]),\n",
       " array([12, 13, 14, 15]))"
      ]
     },
     "execution_count": 158,
     "metadata": {},
     "output_type": "execute_result"
    }
   ],
   "source": [
    "arr1, arr2, arr3, arr4"
   ]
  },
  {
   "cell_type": "markdown",
   "metadata": {},
   "source": [
    "### Broadcasting"
   ]
  },
  {
   "cell_type": "code",
   "execution_count": 162,
   "metadata": {},
   "outputs": [
    {
     "data": {
      "text/plain": [
       "array([[-2.62, -0.41, -0.66],\n",
       "       [ 0.55,  2.06, -1.08],\n",
       "       [ 0.54, -0.89, -0.64],\n",
       "       [ 0.69, -0.89, -1.21]])"
      ]
     },
     "execution_count": 162,
     "metadata": {},
     "output_type": "execute_result"
    }
   ],
   "source": [
    "arr = np.random.randn(4,3)\n",
    "arr"
   ]
  },
  {
   "cell_type": "code",
   "execution_count": 163,
   "metadata": {
    "scrolled": true
   },
   "outputs": [
    {
     "data": {
      "text/plain": [
       "(array([-0.21, -0.03, -0.9 ]), array([-1.23,  0.51, -0.33, -0.47]))"
      ]
     },
     "execution_count": 163,
     "metadata": {},
     "output_type": "execute_result"
    }
   ],
   "source": [
    "arr.mean(0), arr.mean(1)"
   ]
  },
  {
   "cell_type": "code",
   "execution_count": 165,
   "metadata": {
    "scrolled": true
   },
   "outputs": [
    {
     "data": {
      "text/plain": [
       "(array([[-2.41, -0.38,  0.23],\n",
       "        [ 0.76,  2.09, -0.18],\n",
       "        [ 0.75, -0.85,  0.26],\n",
       "        [ 0.9 , -0.86, -0.32]]), array([ 0., -0.,  0.]))"
      ]
     },
     "execution_count": 165,
     "metadata": {},
     "output_type": "execute_result"
    }
   ],
   "source": [
    "demeaned = arr - arr.mean(0)\n",
    "demeaned, demeaned.mean(0)"
   ]
  },
  {
   "cell_type": "markdown",
   "metadata": {},
   "source": [
    "- Broadcasting over other axes\n",
    "\n",
    "The broadcasting dimensions must be 1 in the smaller array."
   ]
  },
  {
   "cell_type": "code",
   "execution_count": 169,
   "metadata": {},
   "outputs": [
    {
     "data": {
      "text/plain": [
       "array([[-1.23],\n",
       "       [ 0.51],\n",
       "       [-0.33],\n",
       "       [-0.47]])"
      ]
     },
     "execution_count": 169,
     "metadata": {},
     "output_type": "execute_result"
    }
   ],
   "source": [
    "row_means = arr.mean(1)\n",
    "row_means.reshape((4,1))"
   ]
  },
  {
   "cell_type": "code",
   "execution_count": 170,
   "metadata": {
    "scrolled": true
   },
   "outputs": [
    {
     "data": {
      "text/plain": [
       "array([ 0.,  0.,  0., -0.])"
      ]
     },
     "execution_count": 170,
     "metadata": {},
     "output_type": "execute_result"
    }
   ],
   "source": [
    "demeaned = arr - row_means.reshape((4,1))\n",
    "demeaned.mean(1)"
   ]
  },
  {
   "cell_type": "code",
   "execution_count": 175,
   "metadata": {},
   "outputs": [
    {
     "data": {
      "text/plain": [
       "((4,), (4, 1))"
      ]
     },
     "execution_count": 175,
     "metadata": {},
     "output_type": "execute_result"
    }
   ],
   "source": [
    "row_means.shape, row_means[:, np.newaxis].shape"
   ]
  },
  {
   "cell_type": "code",
   "execution_count": 176,
   "metadata": {},
   "outputs": [],
   "source": [
    "def demean_axis(arr, axis=0):\n",
    "    means = arr.mean(axis)\n",
    "    indexer = [slice(None)]*arr.ndim\n",
    "    indexer[axis] = np.newaxis\n",
    "    return arr - means[indexer]"
   ]
  },
  {
   "cell_type": "markdown",
   "metadata": {},
   "source": [
    "- Setting Array Values by Broadcasting"
   ]
  },
  {
   "cell_type": "code",
   "execution_count": 178,
   "metadata": {},
   "outputs": [
    {
     "data": {
      "text/plain": [
       "array([[5., 5., 5.],\n",
       "       [5., 5., 5.],\n",
       "       [5., 5., 5.],\n",
       "       [5., 5., 5.]])"
      ]
     },
     "execution_count": 178,
     "metadata": {},
     "output_type": "execute_result"
    }
   ],
   "source": [
    "arr = np.zeros((4,3))\n",
    "arr[:] = 5\n",
    "arr"
   ]
  },
  {
   "cell_type": "code",
   "execution_count": 179,
   "metadata": {},
   "outputs": [
    {
     "data": {
      "text/plain": [
       "array([[0., 0., 0.],\n",
       "       [1., 1., 1.],\n",
       "       [2., 2., 2.],\n",
       "       [3., 3., 3.]])"
      ]
     },
     "execution_count": 179,
     "metadata": {},
     "output_type": "execute_result"
    }
   ],
   "source": [
    "col = np.array([0, 1, 2, 3])\n",
    "arr[:] = col[:, np.newaxis]\n",
    "arr"
   ]
  },
  {
   "cell_type": "code",
   "execution_count": null,
   "metadata": {},
   "outputs": [],
   "source": []
  }
 ],
 "metadata": {
  "kernelspec": {
   "display_name": "Python 3",
   "language": "python",
   "name": "python3"
  },
  "language_info": {
   "codemirror_mode": {
    "name": "ipython",
    "version": 3
   },
   "file_extension": ".py",
   "mimetype": "text/x-python",
   "name": "python",
   "nbconvert_exporter": "python",
   "pygments_lexer": "ipython3",
   "version": "3.7.2"
  }
 },
 "nbformat": 4,
 "nbformat_minor": 2
}
